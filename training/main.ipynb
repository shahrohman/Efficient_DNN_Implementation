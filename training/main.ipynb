{
 "cells": [
  {
   "cell_type": "code",
   "execution_count": null,
   "metadata": {},
   "outputs": [],
   "source": [
    "import torch\n",
    "from model import CNV\n",
    "from trainer import Trainer\n",
    "import brevitas.onnx as bo"
   ]
  },
  {
   "attachments": {},
   "cell_type": "markdown",
   "metadata": {},
   "source": [
    "## W1A1"
   ]
  },
  {
   "cell_type": "code",
   "execution_count": null,
   "metadata": {},
   "outputs": [],
   "source": [
    "model = CNV(num_classes=10, weight_bit_width=1, act_bit_width=1, in_bit_width=8, in_ch=3)\n",
    "epochs = 100\n",
    "trainer = Trainer(model, epochs)\n",
    "model = trainer.train_model()"
   ]
  },
  {
   "cell_type": "code",
   "execution_count": null,
   "metadata": {},
   "outputs": [],
   "source": [
    "output_path = \"model_W1A1.onnx\"\n",
    "input = torch.randn(1, 3, 32, 32)\n",
    "\n",
    "model = model.to(\"cpu\")\n",
    "bo.export_finn_onnx(model, input, output_path)"
   ]
  },
  {
   "attachments": {},
   "cell_type": "markdown",
   "metadata": {},
   "source": [
    "## W1A2"
   ]
  },
  {
   "cell_type": "code",
   "execution_count": null,
   "metadata": {},
   "outputs": [],
   "source": [
    "model = CNV(num_classes=10, weight_bit_width=1, act_bit_width=2, in_bit_width=8, in_ch=3)\n",
    "epochs = 100\n",
    "trainer = Trainer(model, epochs)\n",
    "model = trainer.train_model()"
   ]
  },
  {
   "cell_type": "code",
   "execution_count": null,
   "metadata": {},
   "outputs": [],
   "source": [
    "output_path = \"model_W1A2.onnx\"\n",
    "input = torch.randn(1, 3, 32, 32)\n",
    "\n",
    "model = model.to(\"cpu\")\n",
    "bo.export_finn_onnx(model, input, output_path)"
   ]
  },
  {
   "attachments": {},
   "cell_type": "markdown",
   "metadata": {},
   "source": [
    "## W2A1"
   ]
  },
  {
   "cell_type": "code",
   "execution_count": null,
   "metadata": {},
   "outputs": [],
   "source": [
    "model = CNV(num_classes=10, weight_bit_width=2, act_bit_width=1, in_bit_width=8, in_ch=3)\n",
    "epochs = 100\n",
    "trainer = Trainer(model, epochs)\n",
    "model = trainer.train_model()"
   ]
  },
  {
   "cell_type": "code",
   "execution_count": null,
   "metadata": {},
   "outputs": [],
   "source": [
    "output_path = \"model_W2A1.onnx\"\n",
    "input = torch.randn(1, 3, 32, 32)\n",
    "\n",
    "model = model.to(\"cpu\")\n",
    "bo.export_finn_onnx(model, input, output_path)"
   ]
  },
  {
   "attachments": {},
   "cell_type": "markdown",
   "metadata": {},
   "source": [
    "## W2A2"
   ]
  },
  {
   "cell_type": "code",
   "execution_count": null,
   "metadata": {},
   "outputs": [],
   "source": [
    "model = CNV(num_classes=10, weight_bit_width=2, act_bit_width=2, in_bit_width=8, in_ch=3)\n",
    "epochs = 100\n",
    "trainer = Trainer(model, epochs)\n",
    "model = trainer.train_model()"
   ]
  },
  {
   "cell_type": "code",
   "execution_count": null,
   "metadata": {},
   "outputs": [],
   "source": [
    "output_path = \"model_W2A2.onnx\"\n",
    "input = torch.randn(1, 3, 32, 32)\n",
    "\n",
    "model = model.to(\"cpu\")\n",
    "bo.export_finn_onnx(model, input, output_path)"
   ]
  },
  {
   "attachments": {},
   "cell_type": "markdown",
   "metadata": {},
   "source": [
    "## W1A3"
   ]
  },
  {
   "cell_type": "code",
   "execution_count": null,
   "metadata": {},
   "outputs": [],
   "source": [
    "model = CNV(num_classes=10, weight_bit_width=1, act_bit_width=3, in_bit_width=8, in_ch=3)\n",
    "epochs = 100\n",
    "trainer = Trainer(model, epochs)\n",
    "model = trainer.train_model()"
   ]
  },
  {
   "cell_type": "code",
   "execution_count": null,
   "metadata": {},
   "outputs": [],
   "source": [
    "output_path = \"model_W1A3.onnx\"\n",
    "input = torch.randn(1, 3, 32, 32)\n",
    "\n",
    "model = model.to(\"cpu\")\n",
    "bo.export_finn_onnx(model, input, output_path)"
   ]
  },
  {
   "attachments": {},
   "cell_type": "markdown",
   "metadata": {},
   "source": [
    "## W2A3"
   ]
  },
  {
   "cell_type": "code",
   "execution_count": null,
   "metadata": {},
   "outputs": [],
   "source": [
    "model = CNV(num_classes=10, weight_bit_width=2, act_bit_width=3, in_bit_width=8, in_ch=3)\n",
    "epochs = 100\n",
    "trainer = Trainer(model, epochs)\n",
    "model = trainer.train_model()"
   ]
  },
  {
   "cell_type": "code",
   "execution_count": null,
   "metadata": {},
   "outputs": [],
   "source": [
    "output_path = \"model_W2A3.onnx\"\n",
    "input = torch.randn(1, 3, 32, 32)\n",
    "\n",
    "model = model.to(\"cpu\")\n",
    "bo.export_finn_onnx(model, input, output_path)"
   ]
  },
  {
   "attachments": {},
   "cell_type": "markdown",
   "metadata": {},
   "source": [
    "## W3A2"
   ]
  },
  {
   "cell_type": "code",
   "execution_count": null,
   "metadata": {},
   "outputs": [],
   "source": [
    "model = CNV(num_classes=10, weight_bit_width=3, act_bit_width=2, in_bit_width=8, in_ch=3)\n",
    "epochs = 100\n",
    "trainer = Trainer(model, epochs)\n",
    "model = trainer.train_model()"
   ]
  },
  {
   "cell_type": "code",
   "execution_count": null,
   "metadata": {},
   "outputs": [],
   "source": [
    "output_path = \"model_W3A2.onnx\"\n",
    "input = torch.randn(1, 3, 32, 32)\n",
    "\n",
    "model = model.to(\"cpu\")\n",
    "bo.export_finn_onnx(model, input, output_path)"
   ]
  },
  {
   "attachments": {},
   "cell_type": "markdown",
   "metadata": {},
   "source": [
    "## W3A3"
   ]
  },
  {
   "cell_type": "code",
   "execution_count": null,
   "metadata": {},
   "outputs": [],
   "source": [
    "model = CNV(num_classes=10, weight_bit_width=3, act_bit_width=3, in_bit_width=8, in_ch=3)\n",
    "epochs = 100\n",
    "trainer = Trainer(model, epochs)\n",
    "model = trainer.train_model()"
   ]
  },
  {
   "cell_type": "code",
   "execution_count": null,
   "metadata": {},
   "outputs": [],
   "source": [
    "output_path = \"model_W3A3.onnx\"\n",
    "input = torch.randn(1, 3, 32, 32)\n",
    "\n",
    "model = model.to(\"cpu\")\n",
    "bo.export_finn_onnx(model, input, output_path)"
   ]
  }
 ],
 "metadata": {
  "kernelspec": {
   "display_name": "Python 3",
   "language": "python",
   "name": "python3"
  },
  "language_info": {
   "codemirror_mode": {
    "name": "ipython",
    "version": 3
   },
   "file_extension": ".py",
   "mimetype": "text/x-python",
   "name": "python",
   "nbconvert_exporter": "python",
   "pygments_lexer": "ipython3",
   "version": "3.8.10"
  },
  "orig_nbformat": 4
 },
 "nbformat": 4,
 "nbformat_minor": 2
}
