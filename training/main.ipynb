{
 "cells": [
  {
   "cell_type": "code",
   "execution_count": null,
   "metadata": {},
   "outputs": [],
   "source": [
    "!pip install torch==1.7.1+cu110 torchvision==0.8.2+cu110 torchaudio==0.7.2 -f https://download.pytorch.org/whl/torch_stable.html"
   ]
  },
  {
   "cell_type": "code",
   "execution_count": null,
   "metadata": {},
   "outputs": [],
   "source": [
    "!pip install -qr requirements.txt"
   ]
  },
  {
   "cell_type": "code",
   "execution_count": 37,
   "metadata": {},
   "outputs": [],
   "source": [
    "import torch\n",
    "from model import CNV\n",
    "from trainer import Trainer\n",
    "import brevitas.onnx as bo\n",
    "import numpy as np"
   ]
  },
  {
   "attachments": {},
   "cell_type": "markdown",
   "metadata": {},
   "source": [
    "## W1A1"
   ]
  },
  {
   "cell_type": "code",
   "execution_count": 3,
   "metadata": {},
   "outputs": [
    {
     "name": "stdout",
     "output_type": "stream",
     "text": [
      "Files already downloaded and verified\n",
      "Files already downloaded and verified\n",
      "2023-04-12 20:18:10,433 Epoch: [0][0/500]\tTime 1.796\tData 0.133\tLoss 2.8928\tTop1 Prec 9.000\tTop5 Prec 46.000\t\n",
      "2023-04-12 20:18:10,761 Epoch: [0][10/500]\tTime 0.190\tData 0.013\tLoss 2.5856\tTop1 Prec 14.500\tTop5 Prec 55.500\t\n",
      "2023-04-12 20:18:11,088 Epoch: [0][20/500]\tTime 0.113\tData 0.008\tLoss 2.3995\tTop1 Prec 18.333\tTop5 Prec 62.667\t\n",
      "2023-04-12 20:18:11,412 Epoch: [0][30/500]\tTime 0.086\tData 0.006\tLoss 2.3280\tTop1 Prec 18.750\tTop5 Prec 66.250\t\n",
      "2023-04-12 20:18:11,737 Epoch: [0][40/500]\tTime 0.072\tData 0.005\tLoss 2.2697\tTop1 Prec 19.200\tTop5 Prec 68.600\t\n",
      "2023-04-12 20:18:12,061 Epoch: [0][50/500]\tTime 0.063\tData 0.004\tLoss 2.2260\tTop1 Prec 20.833\tTop5 Prec 70.167\t\n",
      "2023-04-12 20:18:12,385 Epoch: [0][60/500]\tTime 0.058\tData 0.004\tLoss 2.1890\tTop1 Prec 21.857\tTop5 Prec 71.857\t\n",
      "2023-04-12 20:18:12,711 Epoch: [0][70/500]\tTime 0.053\tData 0.003\tLoss 2.1624\tTop1 Prec 21.875\tTop5 Prec 73.000\t\n",
      "2023-04-12 20:18:13,034 Epoch: [0][80/500]\tTime 0.050\tData 0.003\tLoss 2.1251\tTop1 Prec 23.667\tTop5 Prec 74.222\t\n",
      "2023-04-12 20:18:13,356 Epoch: [0][90/500]\tTime 0.048\tData 0.003\tLoss 2.1016\tTop1 Prec 24.600\tTop5 Prec 75.400\t\n",
      "2023-04-12 20:18:13,678 Epoch: [0][100/500]\tTime 0.046\tData 0.003\tLoss 2.0816\tTop1 Prec 24.909\tTop5 Prec 76.000\t\n",
      "2023-04-12 20:18:14,003 Epoch: [0][110/500]\tTime 0.044\tData 0.003\tLoss 2.0558\tTop1 Prec 25.917\tTop5 Prec 77.250\t\n",
      "2023-04-12 20:18:14,329 Epoch: [0][120/500]\tTime 0.043\tData 0.003\tLoss 2.0338\tTop1 Prec 26.692\tTop5 Prec 78.154\t\n",
      "2023-04-12 20:18:14,661 Epoch: [0][130/500]\tTime 0.042\tData 0.003\tLoss 2.0157\tTop1 Prec 27.214\tTop5 Prec 78.571\t\n",
      "2023-04-12 20:18:14,995 Epoch: [0][140/500]\tTime 0.041\tData 0.003\tLoss 2.0153\tTop1 Prec 27.067\tTop5 Prec 78.400\t\n",
      "2023-04-12 20:18:15,323 Epoch: [0][150/500]\tTime 0.040\tData 0.002\tLoss 1.9958\tTop1 Prec 27.438\tTop5 Prec 79.125\t\n",
      "2023-04-12 20:18:15,646 Epoch: [0][160/500]\tTime 0.039\tData 0.002\tLoss 1.9908\tTop1 Prec 27.941\tTop5 Prec 78.882\t\n",
      "2023-04-12 20:18:15,975 Epoch: [0][170/500]\tTime 0.039\tData 0.002\tLoss 1.9807\tTop1 Prec 28.556\tTop5 Prec 79.167\t\n",
      "2023-04-12 20:18:16,298 Epoch: [0][180/500]\tTime 0.038\tData 0.002\tLoss 1.9638\tTop1 Prec 29.105\tTop5 Prec 79.842\t\n",
      "2023-04-12 20:18:16,623 Epoch: [0][190/500]\tTime 0.038\tData 0.002\tLoss 1.9571\tTop1 Prec 29.500\tTop5 Prec 80.150\t\n",
      "2023-04-12 20:18:16,947 Epoch: [0][200/500]\tTime 0.037\tData 0.002\tLoss 1.9466\tTop1 Prec 29.857\tTop5 Prec 80.381\t\n",
      "2023-04-12 20:18:17,271 Epoch: [0][210/500]\tTime 0.037\tData 0.002\tLoss 1.9365\tTop1 Prec 30.364\tTop5 Prec 80.455\t\n",
      "2023-04-12 20:18:17,597 Epoch: [0][220/500]\tTime 0.036\tData 0.002\tLoss 1.9207\tTop1 Prec 30.826\tTop5 Prec 80.957\t\n",
      "2023-04-12 20:18:17,923 Epoch: [0][230/500]\tTime 0.036\tData 0.002\tLoss 1.9128\tTop1 Prec 31.042\tTop5 Prec 81.250\t\n",
      "2023-04-12 20:18:18,245 Epoch: [0][240/500]\tTime 0.036\tData 0.002\tLoss 1.9082\tTop1 Prec 31.120\tTop5 Prec 81.480\t\n",
      "2023-04-12 20:18:18,568 Epoch: [0][250/500]\tTime 0.035\tData 0.002\tLoss 1.9008\tTop1 Prec 31.346\tTop5 Prec 81.731\t\n",
      "2023-04-12 20:18:18,889 Epoch: [0][260/500]\tTime 0.035\tData 0.002\tLoss 1.8948\tTop1 Prec 31.556\tTop5 Prec 82.000\t\n",
      "2023-04-12 20:18:19,212 Epoch: [0][270/500]\tTime 0.035\tData 0.002\tLoss 1.8846\tTop1 Prec 31.964\tTop5 Prec 82.250\t\n",
      "2023-04-12 20:18:19,538 Epoch: [0][280/500]\tTime 0.035\tData 0.002\tLoss 1.8793\tTop1 Prec 32.138\tTop5 Prec 82.414\t\n",
      "2023-04-12 20:18:19,861 Epoch: [0][290/500]\tTime 0.034\tData 0.002\tLoss 1.8768\tTop1 Prec 32.500\tTop5 Prec 82.400\t\n",
      "2023-04-12 20:18:20,193 Epoch: [0][300/500]\tTime 0.034\tData 0.002\tLoss 1.8652\tTop1 Prec 33.065\tTop5 Prec 82.677\t\n",
      "2023-04-12 20:18:20,520 Epoch: [0][310/500]\tTime 0.034\tData 0.002\tLoss 1.8555\tTop1 Prec 33.250\tTop5 Prec 83.031\t\n",
      "2023-04-12 20:18:20,845 Epoch: [0][320/500]\tTime 0.034\tData 0.002\tLoss 1.8440\tTop1 Prec 33.758\tTop5 Prec 83.333\t\n",
      "2023-04-12 20:18:21,172 Epoch: [0][330/500]\tTime 0.034\tData 0.002\tLoss 1.8408\tTop1 Prec 33.941\tTop5 Prec 83.294\t\n",
      "2023-04-12 20:18:21,499 Epoch: [0][340/500]\tTime 0.034\tData 0.002\tLoss 1.8386\tTop1 Prec 34.143\tTop5 Prec 83.257\t\n",
      "2023-04-12 20:18:21,821 Epoch: [0][350/500]\tTime 0.033\tData 0.002\tLoss 1.8322\tTop1 Prec 34.528\tTop5 Prec 83.444\t\n",
      "2023-04-12 20:18:22,145 Epoch: [0][360/500]\tTime 0.033\tData 0.002\tLoss 1.8256\tTop1 Prec 34.757\tTop5 Prec 83.730\t\n",
      "2023-04-12 20:18:22,479 Epoch: [0][370/500]\tTime 0.033\tData 0.002\tLoss 1.8192\tTop1 Prec 34.868\tTop5 Prec 83.947\t\n",
      "2023-04-12 20:18:22,813 Epoch: [0][380/500]\tTime 0.033\tData 0.002\tLoss 1.8158\tTop1 Prec 34.897\tTop5 Prec 84.154\t\n",
      "2023-04-12 20:18:23,156 Epoch: [0][390/500]\tTime 0.033\tData 0.002\tLoss 1.8102\tTop1 Prec 35.100\tTop5 Prec 84.200\t\n",
      "2023-04-12 20:18:23,499 Epoch: [0][400/500]\tTime 0.033\tData 0.002\tLoss 1.8057\tTop1 Prec 35.171\tTop5 Prec 84.390\t\n",
      "2023-04-12 20:18:23,839 Epoch: [0][410/500]\tTime 0.033\tData 0.002\tLoss 1.7988\tTop1 Prec 35.429\tTop5 Prec 84.619\t\n",
      "2023-04-12 20:18:24,163 Epoch: [0][420/500]\tTime 0.033\tData 0.002\tLoss 1.7923\tTop1 Prec 35.674\tTop5 Prec 84.744\t\n",
      "2023-04-12 20:18:24,498 Epoch: [0][430/500]\tTime 0.033\tData 0.002\tLoss 1.7890\tTop1 Prec 35.818\tTop5 Prec 84.886\t\n",
      "2023-04-12 20:18:24,822 Epoch: [0][440/500]\tTime 0.033\tData 0.002\tLoss 1.7835\tTop1 Prec 36.200\tTop5 Prec 84.911\t\n",
      "2023-04-12 20:18:25,148 Epoch: [0][450/500]\tTime 0.032\tData 0.002\tLoss 1.7763\tTop1 Prec 36.391\tTop5 Prec 85.000\t\n",
      "2023-04-12 20:18:25,485 Epoch: [0][460/500]\tTime 0.032\tData 0.002\tLoss 1.7719\tTop1 Prec 36.617\tTop5 Prec 85.170\t\n",
      "2023-04-12 20:18:25,810 Epoch: [0][470/500]\tTime 0.032\tData 0.002\tLoss 1.7663\tTop1 Prec 36.771\tTop5 Prec 85.229\t\n",
      "2023-04-12 20:18:26,132 Epoch: [0][480/500]\tTime 0.032\tData 0.002\tLoss 1.7604\tTop1 Prec 36.898\tTop5 Prec 85.327\t\n",
      "2023-04-12 20:18:26,458 Epoch: [0][490/500]\tTime 0.032\tData 0.002\tLoss 1.7566\tTop1 Prec 36.960\tTop5 Prec 85.460\t\n",
      "2023-04-12 20:18:26,750 Epoch: [0][499/500]\tTime 0.032\tData 0.002\tLoss 1.7519\tTop1 Prec 37.078\tTop5 Prec 85.529\t\n",
      "2023-04-12 20:18:26,934 Test: [0/100]\tModel Time 0.008 (0.008)\tLoss Time 0.000 (0.000)\tLoss 1.4571 (1.4571)\tPrec@1 50.000 (50.000)\tPrec@5 90.000 (90.000)\t\n",
      "2023-04-12 20:18:26,951 Test: [1/100]\tModel Time 0.008 (0.008)\tLoss Time 0.000 (0.000)\tLoss 1.5166 (1.4869)\tPrec@1 46.000 (48.000)\tPrec@5 93.000 (91.500)\t\n",
      "2023-04-12 20:18:26,968 Test: [2/100]\tModel Time 0.009 (0.008)\tLoss Time 0.000 (0.000)\tLoss 1.4255 (1.4664)\tPrec@1 50.000 (48.667)\tPrec@5 92.000 (91.667)\t\n",
      "2023-04-12 20:18:26,986 Test: [3/100]\tModel Time 0.007 (0.008)\tLoss Time 0.000 (0.000)\tLoss 1.4293 (1.4571)\tPrec@1 53.000 (49.750)\tPrec@5 97.000 (93.000)\t\n",
      "2023-04-12 20:18:27,001 Test: [4/100]\tModel Time 0.006 (0.008)\tLoss Time 0.000 (0.000)\tLoss 1.5944 (1.4846)\tPrec@1 40.000 (47.800)\tPrec@5 93.000 (93.000)\t\n",
      "2023-04-12 20:18:27,017 Test: [5/100]\tModel Time 0.007 (0.007)\tLoss Time 0.000 (0.000)\tLoss 1.4957 (1.4864)\tPrec@1 47.000 (47.667)\tPrec@5 94.000 (93.167)\t\n",
      "2023-04-12 20:18:27,033 Test: [6/100]\tModel Time 0.007 (0.007)\tLoss Time 0.000 (0.000)\tLoss 1.4357 (1.4792)\tPrec@1 47.000 (47.571)\tPrec@5 93.000 (93.143)\t\n",
      "2023-04-12 20:18:27,051 Test: [7/100]\tModel Time 0.006 (0.007)\tLoss Time 0.000 (0.000)\tLoss 1.5659 (1.4900)\tPrec@1 46.000 (47.375)\tPrec@5 92.000 (93.000)\t\n",
      "2023-04-12 20:18:27,066 Test: [8/100]\tModel Time 0.006 (0.007)\tLoss Time 0.000 (0.000)\tLoss 1.5740 (1.4993)\tPrec@1 44.000 (47.000)\tPrec@5 89.000 (92.556)\t\n",
      "2023-04-12 20:18:27,083 Test: [9/100]\tModel Time 0.006 (0.007)\tLoss Time 0.000 (0.000)\tLoss 1.3066 (1.4801)\tPrec@1 53.000 (47.600)\tPrec@5 95.000 (92.800)\t\n",
      "2023-04-12 20:18:27,100 Test: [10/100]\tModel Time 0.006 (0.007)\tLoss Time 0.000 (0.000)\tLoss 1.5439 (1.4859)\tPrec@1 45.000 (47.364)\tPrec@5 92.000 (92.727)\t\n",
      "2023-04-12 20:18:27,117 Test: [11/100]\tModel Time 0.006 (0.007)\tLoss Time 0.000 (0.000)\tLoss 1.4959 (1.4867)\tPrec@1 45.000 (47.167)\tPrec@5 91.000 (92.583)\t\n",
      "2023-04-12 20:18:27,134 Test: [12/100]\tModel Time 0.006 (0.007)\tLoss Time 0.000 (0.000)\tLoss 1.5187 (1.4892)\tPrec@1 42.000 (46.769)\tPrec@5 94.000 (92.692)\t\n",
      "2023-04-12 20:18:27,151 Test: [13/100]\tModel Time 0.005 (0.007)\tLoss Time 0.000 (0.000)\tLoss 1.6378 (1.4998)\tPrec@1 44.000 (46.571)\tPrec@5 87.000 (92.286)\t\n",
      "2023-04-12 20:18:27,168 Test: [14/100]\tModel Time 0.005 (0.007)\tLoss Time 0.000 (0.000)\tLoss 1.2957 (1.4862)\tPrec@1 53.000 (47.000)\tPrec@5 97.000 (92.600)\t\n",
      "2023-04-12 20:18:27,184 Test: [15/100]\tModel Time 0.005 (0.007)\tLoss Time 0.000 (0.000)\tLoss 1.6389 (1.4957)\tPrec@1 42.000 (46.688)\tPrec@5 93.000 (92.625)\t\n",
      "2023-04-12 20:18:27,199 Test: [16/100]\tModel Time 0.005 (0.006)\tLoss Time 0.000 (0.000)\tLoss 1.4386 (1.4924)\tPrec@1 57.000 (47.294)\tPrec@5 86.000 (92.235)\t\n",
      "2023-04-12 20:18:27,215 Test: [17/100]\tModel Time 0.005 (0.006)\tLoss Time 0.000 (0.000)\tLoss 1.4328 (1.4891)\tPrec@1 45.000 (47.167)\tPrec@5 92.000 (92.222)\t\n",
      "2023-04-12 20:18:27,232 Test: [18/100]\tModel Time 0.007 (0.006)\tLoss Time 0.000 (0.000)\tLoss 1.4718 (1.4881)\tPrec@1 49.000 (47.263)\tPrec@5 91.000 (92.158)\t\n",
      "2023-04-12 20:18:27,248 Test: [19/100]\tModel Time 0.005 (0.006)\tLoss Time 0.000 (0.000)\tLoss 1.4313 (1.4853)\tPrec@1 51.000 (47.450)\tPrec@5 94.000 (92.250)\t\n",
      "2023-04-12 20:18:27,265 Test: [20/100]\tModel Time 0.005 (0.006)\tLoss Time 0.000 (0.000)\tLoss 1.3948 (1.4810)\tPrec@1 50.000 (47.571)\tPrec@5 94.000 (92.333)\t\n",
      "2023-04-12 20:18:27,281 Test: [21/100]\tModel Time 0.005 (0.006)\tLoss Time 0.000 (0.000)\tLoss 1.4506 (1.4796)\tPrec@1 54.000 (47.864)\tPrec@5 90.000 (92.227)\t\n",
      "2023-04-12 20:18:27,298 Test: [22/100]\tModel Time 0.007 (0.006)\tLoss Time 0.000 (0.000)\tLoss 1.5327 (1.4819)\tPrec@1 45.000 (47.739)\tPrec@5 91.000 (92.174)\t\n",
      "2023-04-12 20:18:27,314 Test: [23/100]\tModel Time 0.005 (0.006)\tLoss Time 0.000 (0.000)\tLoss 1.4673 (1.4813)\tPrec@1 47.000 (47.708)\tPrec@5 90.000 (92.083)\t\n",
      "2023-04-12 20:18:27,331 Test: [24/100]\tModel Time 0.005 (0.006)\tLoss Time 0.000 (0.000)\tLoss 1.3374 (1.4756)\tPrec@1 59.000 (48.160)\tPrec@5 96.000 (92.240)\t\n",
      "2023-04-12 20:18:27,348 Test: [25/100]\tModel Time 0.007 (0.006)\tLoss Time 0.000 (0.000)\tLoss 1.7473 (1.4860)\tPrec@1 37.000 (47.731)\tPrec@5 88.000 (92.077)\t\n",
      "2023-04-12 20:18:27,364 Test: [26/100]\tModel Time 0.005 (0.006)\tLoss Time 0.000 (0.000)\tLoss 1.4460 (1.4845)\tPrec@1 50.000 (47.815)\tPrec@5 92.000 (92.074)\t\n",
      "2023-04-12 20:18:27,380 Test: [27/100]\tModel Time 0.005 (0.006)\tLoss Time 0.000 (0.000)\tLoss 1.6280 (1.4897)\tPrec@1 43.000 (47.643)\tPrec@5 93.000 (92.107)\t\n",
      "2023-04-12 20:18:27,398 Test: [28/100]\tModel Time 0.005 (0.006)\tLoss Time 0.000 (0.000)\tLoss 1.6431 (1.4949)\tPrec@1 39.000 (47.345)\tPrec@5 92.000 (92.103)\t\n",
      "2023-04-12 20:18:27,416 Test: [29/100]\tModel Time 0.006 (0.006)\tLoss Time 0.000 (0.000)\tLoss 1.3815 (1.4912)\tPrec@1 49.000 (47.400)\tPrec@5 92.000 (92.100)\t\n",
      "2023-04-12 20:18:27,433 Test: [30/100]\tModel Time 0.006 (0.006)\tLoss Time 0.000 (0.000)\tLoss 1.3430 (1.4864)\tPrec@1 56.000 (47.677)\tPrec@5 94.000 (92.161)\t\n",
      "2023-04-12 20:18:27,449 Test: [31/100]\tModel Time 0.005 (0.006)\tLoss Time 0.000 (0.000)\tLoss 1.3066 (1.4808)\tPrec@1 55.000 (47.906)\tPrec@5 97.000 (92.312)\t\n",
      "2023-04-12 20:18:27,466 Test: [32/100]\tModel Time 0.007 (0.006)\tLoss Time 0.000 (0.000)\tLoss 1.5127 (1.4817)\tPrec@1 50.000 (47.970)\tPrec@5 90.000 (92.242)\t\n",
      "2023-04-12 20:18:27,485 Test: [33/100]\tModel Time 0.009 (0.006)\tLoss Time 0.000 (0.000)\tLoss 1.4906 (1.4820)\tPrec@1 42.000 (47.794)\tPrec@5 90.000 (92.176)\t\n",
      "2023-04-12 20:18:27,502 Test: [34/100]\tModel Time 0.006 (0.006)\tLoss Time 0.000 (0.000)\tLoss 1.7128 (1.4886)\tPrec@1 40.000 (47.571)\tPrec@5 84.000 (91.943)\t\n",
      "2023-04-12 20:18:27,520 Test: [35/100]\tModel Time 0.008 (0.006)\tLoss Time 0.000 (0.000)\tLoss 1.4175 (1.4866)\tPrec@1 46.000 (47.528)\tPrec@5 92.000 (91.944)\t\n",
      "2023-04-12 20:18:27,538 Test: [36/100]\tModel Time 0.007 (0.006)\tLoss Time 0.000 (0.000)\tLoss 1.5278 (1.4877)\tPrec@1 45.000 (47.459)\tPrec@5 90.000 (91.892)\t\n",
      "2023-04-12 20:18:27,556 Test: [37/100]\tModel Time 0.007 (0.006)\tLoss Time 0.000 (0.000)\tLoss 1.4951 (1.4879)\tPrec@1 46.000 (47.421)\tPrec@5 90.000 (91.842)\t\n",
      "2023-04-12 20:18:27,574 Test: [38/100]\tModel Time 0.010 (0.006)\tLoss Time 0.000 (0.000)\tLoss 1.3467 (1.4843)\tPrec@1 54.000 (47.590)\tPrec@5 93.000 (91.872)\t\n",
      "2023-04-12 20:18:27,590 Test: [39/100]\tModel Time 0.007 (0.006)\tLoss Time 0.000 (0.000)\tLoss 1.4931 (1.4845)\tPrec@1 48.000 (47.600)\tPrec@5 91.000 (91.850)\t\n",
      "2023-04-12 20:18:27,607 Test: [40/100]\tModel Time 0.006 (0.006)\tLoss Time 0.000 (0.000)\tLoss 1.5063 (1.4851)\tPrec@1 44.000 (47.512)\tPrec@5 94.000 (91.902)\t\n",
      "2023-04-12 20:18:27,623 Test: [41/100]\tModel Time 0.007 (0.006)\tLoss Time 0.000 (0.000)\tLoss 1.4009 (1.4831)\tPrec@1 55.000 (47.690)\tPrec@5 91.000 (91.881)\t\n",
      "2023-04-12 20:18:27,640 Test: [42/100]\tModel Time 0.009 (0.006)\tLoss Time 0.000 (0.000)\tLoss 1.3717 (1.4805)\tPrec@1 51.000 (47.767)\tPrec@5 96.000 (91.977)\t\n",
      "2023-04-12 20:18:27,657 Test: [43/100]\tModel Time 0.008 (0.007)\tLoss Time 0.000 (0.000)\tLoss 1.3795 (1.4782)\tPrec@1 51.000 (47.841)\tPrec@5 93.000 (92.000)\t\n",
      "2023-04-12 20:18:27,673 Test: [44/100]\tModel Time 0.007 (0.007)\tLoss Time 0.000 (0.000)\tLoss 1.4032 (1.4765)\tPrec@1 48.000 (47.844)\tPrec@5 94.000 (92.044)\t\n",
      "2023-04-12 20:18:27,691 Test: [45/100]\tModel Time 0.007 (0.007)\tLoss Time 0.000 (0.000)\tLoss 1.3545 (1.4738)\tPrec@1 53.000 (47.957)\tPrec@5 96.000 (92.130)\t\n",
      "2023-04-12 20:18:27,710 Test: [46/100]\tModel Time 0.007 (0.007)\tLoss Time 0.000 (0.000)\tLoss 1.3639 (1.4715)\tPrec@1 52.000 (48.043)\tPrec@5 97.000 (92.234)\t\n",
      "2023-04-12 20:18:27,730 Test: [47/100]\tModel Time 0.011 (0.007)\tLoss Time 0.000 (0.000)\tLoss 1.4923 (1.4719)\tPrec@1 51.000 (48.104)\tPrec@5 88.000 (92.146)\t\n",
      "2023-04-12 20:18:27,748 Test: [48/100]\tModel Time 0.006 (0.007)\tLoss Time 0.000 (0.000)\tLoss 1.4089 (1.4707)\tPrec@1 49.000 (48.122)\tPrec@5 91.000 (92.122)\t\n",
      "2023-04-12 20:18:27,765 Test: [49/100]\tModel Time 0.006 (0.007)\tLoss Time 0.000 (0.000)\tLoss 1.4989 (1.4712)\tPrec@1 49.000 (48.140)\tPrec@5 91.000 (92.100)\t\n",
      "2023-04-12 20:18:27,781 Test: [50/100]\tModel Time 0.007 (0.007)\tLoss Time 0.000 (0.000)\tLoss 1.5661 (1.4731)\tPrec@1 41.000 (48.000)\tPrec@5 92.000 (92.098)\t\n",
      "2023-04-12 20:18:27,798 Test: [51/100]\tModel Time 0.006 (0.007)\tLoss Time 0.000 (0.000)\tLoss 1.4510 (1.4727)\tPrec@1 48.000 (48.000)\tPrec@5 91.000 (92.077)\t\n",
      "2023-04-12 20:18:27,815 Test: [52/100]\tModel Time 0.006 (0.007)\tLoss Time 0.000 (0.000)\tLoss 1.5368 (1.4739)\tPrec@1 40.000 (47.849)\tPrec@5 93.000 (92.094)\t\n",
      "2023-04-12 20:18:27,832 Test: [53/100]\tModel Time 0.008 (0.007)\tLoss Time 0.000 (0.000)\tLoss 1.6147 (1.4765)\tPrec@1 43.000 (47.759)\tPrec@5 87.000 (92.000)\t\n",
      "2023-04-12 20:18:27,849 Test: [54/100]\tModel Time 0.006 (0.007)\tLoss Time 0.000 (0.000)\tLoss 1.5656 (1.4781)\tPrec@1 44.000 (47.691)\tPrec@5 87.000 (91.909)\t\n",
      "2023-04-12 20:18:27,865 Test: [55/100]\tModel Time 0.006 (0.007)\tLoss Time 0.000 (0.000)\tLoss 1.5806 (1.4799)\tPrec@1 40.000 (47.554)\tPrec@5 90.000 (91.875)\t\n",
      "2023-04-12 20:18:27,882 Test: [56/100]\tModel Time 0.007 (0.007)\tLoss Time 0.000 (0.000)\tLoss 1.4867 (1.4800)\tPrec@1 47.000 (47.544)\tPrec@5 94.000 (91.912)\t\n",
      "2023-04-12 20:18:27,900 Test: [57/100]\tModel Time 0.006 (0.007)\tLoss Time 0.000 (0.000)\tLoss 1.4781 (1.4800)\tPrec@1 47.000 (47.534)\tPrec@5 94.000 (91.948)\t\n",
      "2023-04-12 20:18:27,916 Test: [58/100]\tModel Time 0.005 (0.007)\tLoss Time 0.000 (0.000)\tLoss 1.5001 (1.4804)\tPrec@1 50.000 (47.576)\tPrec@5 92.000 (91.949)\t\n",
      "2023-04-12 20:18:27,932 Test: [59/100]\tModel Time 0.006 (0.007)\tLoss Time 0.000 (0.000)\tLoss 1.3189 (1.4777)\tPrec@1 57.000 (47.733)\tPrec@5 93.000 (91.967)\t\n",
      "2023-04-12 20:18:27,950 Test: [60/100]\tModel Time 0.007 (0.007)\tLoss Time 0.000 (0.000)\tLoss 1.5190 (1.4783)\tPrec@1 42.000 (47.639)\tPrec@5 95.000 (92.016)\t\n",
      "2023-04-12 20:18:27,966 Test: [61/100]\tModel Time 0.005 (0.007)\tLoss Time 0.000 (0.000)\tLoss 1.5180 (1.4790)\tPrec@1 45.000 (47.597)\tPrec@5 87.000 (91.935)\t\n",
      "2023-04-12 20:18:27,983 Test: [62/100]\tModel Time 0.005 (0.007)\tLoss Time 0.000 (0.000)\tLoss 1.4370 (1.4783)\tPrec@1 52.000 (47.667)\tPrec@5 91.000 (91.921)\t\n",
      "2023-04-12 20:18:27,999 Test: [63/100]\tModel Time 0.005 (0.007)\tLoss Time 0.000 (0.000)\tLoss 1.5232 (1.4790)\tPrec@1 50.000 (47.703)\tPrec@5 96.000 (91.984)\t\n",
      "2023-04-12 20:18:28,015 Test: [64/100]\tModel Time 0.005 (0.007)\tLoss Time 0.000 (0.000)\tLoss 1.5103 (1.4795)\tPrec@1 47.000 (47.692)\tPrec@5 92.000 (91.985)\t\n",
      "2023-04-12 20:18:28,032 Test: [65/100]\tModel Time 0.005 (0.007)\tLoss Time 0.000 (0.000)\tLoss 1.4905 (1.4797)\tPrec@1 44.000 (47.636)\tPrec@5 92.000 (91.985)\t\n",
      "2023-04-12 20:18:28,048 Test: [66/100]\tModel Time 0.005 (0.006)\tLoss Time 0.000 (0.000)\tLoss 1.6181 (1.4817)\tPrec@1 40.000 (47.522)\tPrec@5 89.000 (91.940)\t\n",
      "2023-04-12 20:18:28,065 Test: [67/100]\tModel Time 0.005 (0.006)\tLoss Time 0.000 (0.000)\tLoss 1.4725 (1.4816)\tPrec@1 48.000 (47.529)\tPrec@5 91.000 (91.926)\t\n",
      "2023-04-12 20:18:28,081 Test: [68/100]\tModel Time 0.006 (0.006)\tLoss Time 0.000 (0.000)\tLoss 1.4701 (1.4814)\tPrec@1 44.000 (47.478)\tPrec@5 92.000 (91.928)\t\n",
      "2023-04-12 20:18:28,098 Test: [69/100]\tModel Time 0.006 (0.006)\tLoss Time 0.000 (0.000)\tLoss 1.5084 (1.4818)\tPrec@1 49.000 (47.500)\tPrec@5 89.000 (91.886)\t\n",
      "2023-04-12 20:18:28,115 Test: [70/100]\tModel Time 0.008 (0.006)\tLoss Time 0.000 (0.000)\tLoss 1.6026 (1.4835)\tPrec@1 37.000 (47.352)\tPrec@5 88.000 (91.831)\t\n",
      "2023-04-12 20:18:28,132 Test: [71/100]\tModel Time 0.005 (0.006)\tLoss Time 0.000 (0.000)\tLoss 1.5015 (1.4838)\tPrec@1 48.000 (47.361)\tPrec@5 88.000 (91.778)\t\n",
      "2023-04-12 20:18:28,149 Test: [72/100]\tModel Time 0.006 (0.006)\tLoss Time 0.000 (0.000)\tLoss 1.4748 (1.4836)\tPrec@1 39.000 (47.247)\tPrec@5 95.000 (91.822)\t\n",
      "2023-04-12 20:18:28,166 Test: [73/100]\tModel Time 0.006 (0.006)\tLoss Time 0.000 (0.000)\tLoss 1.3652 (1.4820)\tPrec@1 47.000 (47.243)\tPrec@5 95.000 (91.865)\t\n",
      "2023-04-12 20:18:28,182 Test: [74/100]\tModel Time 0.006 (0.006)\tLoss Time 0.000 (0.000)\tLoss 1.4663 (1.4818)\tPrec@1 53.000 (47.320)\tPrec@5 91.000 (91.853)\t\n",
      "2023-04-12 20:18:28,199 Test: [75/100]\tModel Time 0.005 (0.006)\tLoss Time 0.000 (0.000)\tLoss 1.5072 (1.4822)\tPrec@1 50.000 (47.355)\tPrec@5 91.000 (91.842)\t\n",
      "2023-04-12 20:18:28,216 Test: [76/100]\tModel Time 0.006 (0.006)\tLoss Time 0.000 (0.000)\tLoss 1.3717 (1.4807)\tPrec@1 47.000 (47.351)\tPrec@5 93.000 (91.857)\t\n",
      "2023-04-12 20:18:28,233 Test: [77/100]\tModel Time 0.005 (0.006)\tLoss Time 0.000 (0.000)\tLoss 1.4734 (1.4806)\tPrec@1 51.000 (47.397)\tPrec@5 95.000 (91.897)\t\n",
      "2023-04-12 20:18:28,251 Test: [78/100]\tModel Time 0.008 (0.006)\tLoss Time 0.000 (0.000)\tLoss 1.5573 (1.4816)\tPrec@1 49.000 (47.418)\tPrec@5 92.000 (91.899)\t\n",
      "2023-04-12 20:18:28,267 Test: [79/100]\tModel Time 0.005 (0.006)\tLoss Time 0.000 (0.000)\tLoss 1.5065 (1.4819)\tPrec@1 50.000 (47.450)\tPrec@5 87.000 (91.838)\t\n",
      "2023-04-12 20:18:28,285 Test: [80/100]\tModel Time 0.006 (0.006)\tLoss Time 0.000 (0.000)\tLoss 1.4216 (1.4812)\tPrec@1 51.000 (47.494)\tPrec@5 91.000 (91.827)\t\n",
      "2023-04-12 20:18:28,301 Test: [81/100]\tModel Time 0.005 (0.006)\tLoss Time 0.000 (0.000)\tLoss 1.4752 (1.4811)\tPrec@1 48.000 (47.500)\tPrec@5 88.000 (91.780)\t\n",
      "2023-04-12 20:18:28,319 Test: [82/100]\tModel Time 0.007 (0.006)\tLoss Time 0.000 (0.000)\tLoss 1.4736 (1.4810)\tPrec@1 48.000 (47.506)\tPrec@5 90.000 (91.759)\t\n",
      "2023-04-12 20:18:28,335 Test: [83/100]\tModel Time 0.005 (0.006)\tLoss Time 0.000 (0.000)\tLoss 1.5378 (1.4817)\tPrec@1 38.000 (47.393)\tPrec@5 90.000 (91.738)\t\n",
      "2023-04-12 20:18:28,353 Test: [84/100]\tModel Time 0.006 (0.006)\tLoss Time 0.000 (0.000)\tLoss 1.5208 (1.4821)\tPrec@1 48.000 (47.400)\tPrec@5 90.000 (91.718)\t\n",
      "2023-04-12 20:18:28,369 Test: [85/100]\tModel Time 0.005 (0.006)\tLoss Time 0.000 (0.000)\tLoss 1.4698 (1.4820)\tPrec@1 49.000 (47.419)\tPrec@5 90.000 (91.698)\t\n",
      "2023-04-12 20:18:28,386 Test: [86/100]\tModel Time 0.008 (0.006)\tLoss Time 0.000 (0.000)\tLoss 1.5588 (1.4829)\tPrec@1 38.000 (47.310)\tPrec@5 93.000 (91.713)\t\n",
      "2023-04-12 20:18:28,403 Test: [87/100]\tModel Time 0.005 (0.006)\tLoss Time 0.000 (0.000)\tLoss 1.4437 (1.4824)\tPrec@1 53.000 (47.375)\tPrec@5 92.000 (91.716)\t\n",
      "2023-04-12 20:18:28,420 Test: [88/100]\tModel Time 0.005 (0.006)\tLoss Time 0.000 (0.000)\tLoss 1.5736 (1.4835)\tPrec@1 49.000 (47.393)\tPrec@5 88.000 (91.674)\t\n",
      "2023-04-12 20:18:28,436 Test: [89/100]\tModel Time 0.008 (0.006)\tLoss Time 0.000 (0.000)\tLoss 1.4914 (1.4836)\tPrec@1 49.000 (47.411)\tPrec@5 90.000 (91.656)\t\n",
      "2023-04-12 20:18:28,453 Test: [90/100]\tModel Time 0.005 (0.006)\tLoss Time 0.000 (0.000)\tLoss 1.4809 (1.4835)\tPrec@1 42.000 (47.352)\tPrec@5 92.000 (91.659)\t\n",
      "2023-04-12 20:18:28,470 Test: [91/100]\tModel Time 0.006 (0.006)\tLoss Time 0.000 (0.000)\tLoss 1.3505 (1.4821)\tPrec@1 59.000 (47.478)\tPrec@5 92.000 (91.663)\t\n",
      "2023-04-12 20:18:28,489 Test: [92/100]\tModel Time 0.007 (0.006)\tLoss Time 0.000 (0.000)\tLoss 1.3198 (1.4803)\tPrec@1 55.000 (47.559)\tPrec@5 93.000 (91.677)\t\n",
      "2023-04-12 20:18:28,506 Test: [93/100]\tModel Time 0.007 (0.006)\tLoss Time 0.000 (0.000)\tLoss 1.4813 (1.4803)\tPrec@1 46.000 (47.543)\tPrec@5 94.000 (91.702)\t\n",
      "2023-04-12 20:18:28,522 Test: [94/100]\tModel Time 0.007 (0.006)\tLoss Time 0.000 (0.000)\tLoss 1.4518 (1.4800)\tPrec@1 51.000 (47.579)\tPrec@5 90.000 (91.684)\t\n",
      "2023-04-12 20:18:28,539 Test: [95/100]\tModel Time 0.008 (0.006)\tLoss Time 0.000 (0.000)\tLoss 1.3686 (1.4789)\tPrec@1 51.000 (47.615)\tPrec@5 95.000 (91.719)\t\n",
      "2023-04-12 20:18:28,556 Test: [96/100]\tModel Time 0.008 (0.006)\tLoss Time 0.000 (0.000)\tLoss 1.4088 (1.4782)\tPrec@1 49.000 (47.629)\tPrec@5 91.000 (91.711)\t\n",
      "2023-04-12 20:18:28,572 Test: [97/100]\tModel Time 0.007 (0.006)\tLoss Time 0.000 (0.000)\tLoss 1.6575 (1.4800)\tPrec@1 42.000 (47.571)\tPrec@5 86.000 (91.653)\t\n",
      "2023-04-12 20:18:28,589 Test: [98/100]\tModel Time 0.007 (0.006)\tLoss Time 0.000 (0.000)\tLoss 1.4235 (1.4794)\tPrec@1 43.000 (47.525)\tPrec@5 97.000 (91.707)\t\n",
      "2023-04-12 20:18:28,606 Test: [99/100]\tModel Time 0.007 (0.006)\tLoss Time 0.000 (0.000)\tLoss 1.4568 (1.4792)\tPrec@1 45.000 (47.500)\tPrec@5 92.000 (91.710)\t\n",
      "2023-04-12 20:18:28,657 Saving checkpoint model to /home/shah/Documents/Polymtl/ELE6301E/Final_Project/Efficient_DNN_Implementation/training/output/checkpoints/best.tar\n"
     ]
    },
    {
     "name": "stderr",
     "output_type": "stream",
     "text": [
      "/home/shah/.local/lib/python3.8/site-packages/torch/nn/modules/module.py:1802: UserWarning: Positional args are being deprecated, use kwargs instead. Refer to https://pytorch.org/docs/master/generated/torch.nn.Module.html#torch.nn.Module.state_dict for details.\n",
      "  warnings.warn(\n"
     ]
    },
    {
     "name": "stdout",
     "output_type": "stream",
     "text": [
      "2023-04-12 20:18:28,985 Epoch: [1][0/500]\tTime 0.020\tData 0.180\tLoss 1.3979\tTop1 Prec 50.000\tTop5 Prec 97.000\t\n",
      "2023-04-12 20:18:29,314 Epoch: [1][10/500]\tTime 0.028\tData 0.018\tLoss 1.4045\tTop1 Prec 49.500\tTop5 Prec 92.500\t\n",
      "2023-04-12 20:18:29,644 Epoch: [1][20/500]\tTime 0.028\tData 0.010\tLoss 1.4521\tTop1 Prec 48.333\tTop5 Prec 91.333\t\n",
      "2023-04-12 20:18:29,969 Epoch: [1][30/500]\tTime 0.028\tData 0.007\tLoss 1.4692\tTop1 Prec 47.250\tTop5 Prec 91.000\t\n",
      "2023-04-12 20:18:30,297 Epoch: [1][40/500]\tTime 0.028\tData 0.006\tLoss 1.4625\tTop1 Prec 48.400\tTop5 Prec 91.400\t\n",
      "2023-04-12 20:18:30,628 Epoch: [1][50/500]\tTime 0.029\tData 0.005\tLoss 1.4813\tTop1 Prec 48.167\tTop5 Prec 91.333\t\n",
      "2023-04-12 20:18:30,954 Epoch: [1][60/500]\tTime 0.029\tData 0.005\tLoss 1.4444\tTop1 Prec 50.000\tTop5 Prec 92.286\t\n",
      "2023-04-12 20:18:31,280 Epoch: [1][70/500]\tTime 0.028\tData 0.004\tLoss 1.4316\tTop1 Prec 50.125\tTop5 Prec 92.750\t\n",
      "2023-04-12 20:18:31,606 Epoch: [1][80/500]\tTime 0.028\tData 0.004\tLoss 1.4276\tTop1 Prec 50.667\tTop5 Prec 92.667\t\n",
      "2023-04-12 20:18:31,929 Epoch: [1][90/500]\tTime 0.028\tData 0.004\tLoss 1.4315\tTop1 Prec 50.300\tTop5 Prec 93.000\t\n",
      "2023-04-12 20:18:32,252 Epoch: [1][100/500]\tTime 0.028\tData 0.003\tLoss 1.4352\tTop1 Prec 49.545\tTop5 Prec 93.091\t\n",
      "2023-04-12 20:18:32,574 Epoch: [1][110/500]\tTime 0.028\tData 0.003\tLoss 1.4383\tTop1 Prec 49.417\tTop5 Prec 93.000\t\n",
      "2023-04-12 20:18:32,897 Epoch: [1][120/500]\tTime 0.028\tData 0.003\tLoss 1.4352\tTop1 Prec 49.538\tTop5 Prec 93.077\t\n",
      "2023-04-12 20:18:33,227 Epoch: [1][130/500]\tTime 0.028\tData 0.003\tLoss 1.4259\tTop1 Prec 49.500\tTop5 Prec 93.143\t\n",
      "2023-04-12 20:18:33,555 Epoch: [1][140/500]\tTime 0.028\tData 0.003\tLoss 1.4411\tTop1 Prec 49.000\tTop5 Prec 92.800\t\n",
      "2023-04-12 20:18:33,880 Epoch: [1][150/500]\tTime 0.028\tData 0.003\tLoss 1.4522\tTop1 Prec 48.500\tTop5 Prec 92.750\t\n",
      "2023-04-12 20:18:34,204 Epoch: [1][160/500]\tTime 0.028\tData 0.003\tLoss 1.4494\tTop1 Prec 48.412\tTop5 Prec 92.941\t\n",
      "2023-04-12 20:18:34,530 Epoch: [1][170/500]\tTime 0.028\tData 0.003\tLoss 1.4571\tTop1 Prec 48.333\tTop5 Prec 92.556\t\n",
      "2023-04-12 20:18:34,852 Epoch: [1][180/500]\tTime 0.028\tData 0.003\tLoss 1.4525\tTop1 Prec 48.368\tTop5 Prec 92.684\t\n",
      "2023-04-12 20:18:35,179 Epoch: [1][190/500]\tTime 0.028\tData 0.003\tLoss 1.4511\tTop1 Prec 48.550\tTop5 Prec 92.450\t\n",
      "2023-04-12 20:18:35,502 Epoch: [1][200/500]\tTime 0.028\tData 0.003\tLoss 1.4545\tTop1 Prec 48.381\tTop5 Prec 92.476\t\n",
      "2023-04-12 20:18:35,824 Epoch: [1][210/500]\tTime 0.028\tData 0.003\tLoss 1.4622\tTop1 Prec 47.909\tTop5 Prec 92.318\t\n",
      "2023-04-12 20:18:36,147 Epoch: [1][220/500]\tTime 0.028\tData 0.003\tLoss 1.4559\tTop1 Prec 47.913\tTop5 Prec 92.478\t\n",
      "2023-04-12 20:18:36,471 Epoch: [1][230/500]\tTime 0.028\tData 0.002\tLoss 1.4561\tTop1 Prec 47.958\tTop5 Prec 92.500\t\n",
      "2023-04-12 20:18:36,793 Epoch: [1][240/500]\tTime 0.028\tData 0.002\tLoss 1.4536\tTop1 Prec 48.120\tTop5 Prec 92.360\t\n",
      "2023-04-12 20:18:37,114 Epoch: [1][250/500]\tTime 0.028\tData 0.002\tLoss 1.4562\tTop1 Prec 47.885\tTop5 Prec 92.423\t\n",
      "2023-04-12 20:18:37,436 Epoch: [1][260/500]\tTime 0.028\tData 0.002\tLoss 1.4557\tTop1 Prec 47.852\tTop5 Prec 92.333\t\n",
      "2023-04-12 20:18:37,763 Epoch: [1][270/500]\tTime 0.028\tData 0.002\tLoss 1.4546\tTop1 Prec 47.893\tTop5 Prec 92.536\t\n",
      "2023-04-12 20:18:38,095 Epoch: [1][280/500]\tTime 0.028\tData 0.002\tLoss 1.4552\tTop1 Prec 47.862\tTop5 Prec 92.586\t\n",
      "2023-04-12 20:18:38,423 Epoch: [1][290/500]\tTime 0.028\tData 0.002\tLoss 1.4558\tTop1 Prec 47.733\tTop5 Prec 92.633\t\n",
      "2023-04-12 20:18:38,747 Epoch: [1][300/500]\tTime 0.028\tData 0.002\tLoss 1.4595\tTop1 Prec 47.677\tTop5 Prec 92.484\t\n",
      "2023-04-12 20:18:39,074 Epoch: [1][310/500]\tTime 0.028\tData 0.002\tLoss 1.4571\tTop1 Prec 47.781\tTop5 Prec 92.500\t\n",
      "2023-04-12 20:18:39,397 Epoch: [1][320/500]\tTime 0.028\tData 0.002\tLoss 1.4554\tTop1 Prec 47.879\tTop5 Prec 92.545\t\n",
      "2023-04-12 20:18:39,721 Epoch: [1][330/500]\tTime 0.028\tData 0.002\tLoss 1.4552\tTop1 Prec 47.941\tTop5 Prec 92.529\t\n",
      "2023-04-12 20:18:40,045 Epoch: [1][340/500]\tTime 0.028\tData 0.002\tLoss 1.4489\tTop1 Prec 48.200\tTop5 Prec 92.629\t\n",
      "2023-04-12 20:18:40,369 Epoch: [1][350/500]\tTime 0.028\tData 0.002\tLoss 1.4513\tTop1 Prec 48.167\tTop5 Prec 92.472\t\n",
      "2023-04-12 20:18:40,692 Epoch: [1][360/500]\tTime 0.028\tData 0.002\tLoss 1.4530\tTop1 Prec 48.216\tTop5 Prec 92.351\t\n",
      "2023-04-12 20:18:41,014 Epoch: [1][370/500]\tTime 0.028\tData 0.002\tLoss 1.4517\tTop1 Prec 48.132\tTop5 Prec 92.395\t\n",
      "2023-04-12 20:18:41,344 Epoch: [1][380/500]\tTime 0.028\tData 0.002\tLoss 1.4490\tTop1 Prec 48.231\tTop5 Prec 92.487\t\n",
      "2023-04-12 20:18:41,670 Epoch: [1][390/500]\tTime 0.028\tData 0.002\tLoss 1.4495\tTop1 Prec 48.200\tTop5 Prec 92.475\t\n",
      "2023-04-12 20:18:41,993 Epoch: [1][400/500]\tTime 0.028\tData 0.002\tLoss 1.4478\tTop1 Prec 48.220\tTop5 Prec 92.390\t\n",
      "2023-04-12 20:18:42,315 Epoch: [1][410/500]\tTime 0.028\tData 0.002\tLoss 1.4536\tTop1 Prec 48.048\tTop5 Prec 92.333\t\n",
      "2023-04-12 20:18:42,643 Epoch: [1][420/500]\tTime 0.028\tData 0.002\tLoss 1.4504\tTop1 Prec 48.209\tTop5 Prec 92.372\t\n",
      "2023-04-12 20:18:42,968 Epoch: [1][430/500]\tTime 0.028\tData 0.002\tLoss 1.4485\tTop1 Prec 48.295\tTop5 Prec 92.386\t\n",
      "2023-04-12 20:18:43,296 Epoch: [1][440/500]\tTime 0.028\tData 0.002\tLoss 1.4492\tTop1 Prec 48.244\tTop5 Prec 92.400\t\n",
      "2023-04-12 20:18:43,625 Epoch: [1][450/500]\tTime 0.028\tData 0.002\tLoss 1.4441\tTop1 Prec 48.326\tTop5 Prec 92.500\t\n",
      "2023-04-12 20:18:43,947 Epoch: [1][460/500]\tTime 0.028\tData 0.002\tLoss 1.4397\tTop1 Prec 48.426\tTop5 Prec 92.574\t\n",
      "2023-04-12 20:18:44,271 Epoch: [1][470/500]\tTime 0.028\tData 0.002\tLoss 1.4437\tTop1 Prec 48.250\tTop5 Prec 92.542\t\n",
      "2023-04-12 20:18:44,595 Epoch: [1][480/500]\tTime 0.028\tData 0.002\tLoss 1.4447\tTop1 Prec 48.265\tTop5 Prec 92.388\t\n",
      "2023-04-12 20:18:44,921 Epoch: [1][490/500]\tTime 0.028\tData 0.002\tLoss 1.4404\tTop1 Prec 48.460\tTop5 Prec 92.520\t\n",
      "2023-04-12 20:18:45,213 Epoch: [1][499/500]\tTime 0.028\tData 0.002\tLoss 1.4404\tTop1 Prec 48.490\tTop5 Prec 92.490\t\n",
      "2023-04-12 20:18:45,403 Test: [0/100]\tModel Time 0.008 (0.008)\tLoss Time 0.000 (0.000)\tLoss 1.2513 (1.2513)\tPrec@1 57.000 (57.000)\tPrec@5 94.000 (94.000)\t\n",
      "2023-04-12 20:18:45,426 Test: [1/100]\tModel Time 0.008 (0.008)\tLoss Time 0.000 (0.000)\tLoss 1.2762 (1.2638)\tPrec@1 52.000 (54.500)\tPrec@5 97.000 (95.500)\t\n",
      "2023-04-12 20:18:45,444 Test: [2/100]\tModel Time 0.007 (0.007)\tLoss Time 0.000 (0.000)\tLoss 1.2868 (1.2715)\tPrec@1 52.000 (53.667)\tPrec@5 97.000 (96.000)\t\n",
      "2023-04-12 20:18:45,462 Test: [3/100]\tModel Time 0.008 (0.007)\tLoss Time 0.000 (0.000)\tLoss 1.2974 (1.2779)\tPrec@1 53.000 (53.500)\tPrec@5 95.000 (95.750)\t\n",
      "2023-04-12 20:18:45,479 Test: [4/100]\tModel Time 0.006 (0.007)\tLoss Time 0.000 (0.000)\tLoss 1.2150 (1.2654)\tPrec@1 58.000 (54.400)\tPrec@5 92.000 (95.000)\t\n",
      "2023-04-12 20:18:45,499 Test: [5/100]\tModel Time 0.006 (0.007)\tLoss Time 0.000 (0.000)\tLoss 1.2328 (1.2599)\tPrec@1 55.000 (54.500)\tPrec@5 96.000 (95.167)\t\n",
      "2023-04-12 20:18:45,516 Test: [6/100]\tModel Time 0.009 (0.007)\tLoss Time 0.000 (0.000)\tLoss 1.2344 (1.2563)\tPrec@1 53.000 (54.286)\tPrec@5 94.000 (95.000)\t\n",
      "2023-04-12 20:18:45,533 Test: [7/100]\tModel Time 0.006 (0.007)\tLoss Time 0.000 (0.000)\tLoss 1.3141 (1.2635)\tPrec@1 51.000 (53.875)\tPrec@5 96.000 (95.125)\t\n",
      "2023-04-12 20:18:45,549 Test: [8/100]\tModel Time 0.007 (0.007)\tLoss Time 0.000 (0.000)\tLoss 1.3356 (1.2715)\tPrec@1 51.000 (53.556)\tPrec@5 91.000 (94.667)\t\n",
      "2023-04-12 20:18:45,568 Test: [9/100]\tModel Time 0.007 (0.007)\tLoss Time 0.000 (0.000)\tLoss 1.0959 (1.2540)\tPrec@1 65.000 (54.700)\tPrec@5 92.000 (94.400)\t\n",
      "2023-04-12 20:18:45,584 Test: [10/100]\tModel Time 0.005 (0.007)\tLoss Time 0.000 (0.000)\tLoss 1.2076 (1.2497)\tPrec@1 60.000 (55.182)\tPrec@5 94.000 (94.364)\t\n",
      "2023-04-12 20:18:45,601 Test: [11/100]\tModel Time 0.006 (0.007)\tLoss Time 0.000 (0.000)\tLoss 1.1402 (1.2406)\tPrec@1 66.000 (56.083)\tPrec@5 98.000 (94.667)\t\n",
      "2023-04-12 20:18:45,619 Test: [12/100]\tModel Time 0.009 (0.007)\tLoss Time 0.000 (0.000)\tLoss 1.3638 (1.2501)\tPrec@1 45.000 (55.231)\tPrec@5 92.000 (94.462)\t\n",
      "2023-04-12 20:18:45,636 Test: [13/100]\tModel Time 0.006 (0.007)\tLoss Time 0.000 (0.000)\tLoss 1.2951 (1.2533)\tPrec@1 55.000 (55.214)\tPrec@5 94.000 (94.429)\t\n",
      "2023-04-12 20:18:45,653 Test: [14/100]\tModel Time 0.005 (0.007)\tLoss Time 0.000 (0.000)\tLoss 0.9750 (1.2347)\tPrec@1 61.000 (55.600)\tPrec@5 96.000 (94.533)\t\n",
      "2023-04-12 20:18:45,669 Test: [15/100]\tModel Time 0.005 (0.007)\tLoss Time 0.000 (0.000)\tLoss 1.3518 (1.2421)\tPrec@1 56.000 (55.625)\tPrec@5 93.000 (94.438)\t\n",
      "2023-04-12 20:18:45,686 Test: [16/100]\tModel Time 0.005 (0.007)\tLoss Time 0.000 (0.000)\tLoss 1.3448 (1.2481)\tPrec@1 55.000 (55.588)\tPrec@5 89.000 (94.118)\t\n",
      "2023-04-12 20:18:45,702 Test: [17/100]\tModel Time 0.005 (0.007)\tLoss Time 0.000 (0.000)\tLoss 1.1894 (1.2448)\tPrec@1 63.000 (56.000)\tPrec@5 96.000 (94.222)\t\n",
      "2023-04-12 20:18:45,719 Test: [18/100]\tModel Time 0.005 (0.006)\tLoss Time 0.000 (0.000)\tLoss 1.2905 (1.2472)\tPrec@1 64.000 (56.421)\tPrec@5 90.000 (94.000)\t\n",
      "2023-04-12 20:18:45,736 Test: [19/100]\tModel Time 0.005 (0.006)\tLoss Time 0.000 (0.000)\tLoss 1.4525 (1.2575)\tPrec@1 48.000 (56.000)\tPrec@5 92.000 (93.900)\t\n",
      "2023-04-12 20:18:45,752 Test: [20/100]\tModel Time 0.005 (0.006)\tLoss Time 0.000 (0.000)\tLoss 1.1603 (1.2529)\tPrec@1 64.000 (56.381)\tPrec@5 92.000 (93.810)\t\n",
      "2023-04-12 20:18:45,769 Test: [21/100]\tModel Time 0.005 (0.006)\tLoss Time 0.000 (0.000)\tLoss 1.2979 (1.2549)\tPrec@1 58.000 (56.455)\tPrec@5 91.000 (93.682)\t\n",
      "2023-04-12 20:18:45,786 Test: [22/100]\tModel Time 0.005 (0.006)\tLoss Time 0.000 (0.000)\tLoss 1.2670 (1.2555)\tPrec@1 53.000 (56.304)\tPrec@5 95.000 (93.739)\t\n",
      "2023-04-12 20:18:45,803 Test: [23/100]\tModel Time 0.006 (0.006)\tLoss Time 0.000 (0.000)\tLoss 1.2355 (1.2546)\tPrec@1 54.000 (56.208)\tPrec@5 96.000 (93.833)\t\n",
      "2023-04-12 20:18:45,819 Test: [24/100]\tModel Time 0.005 (0.006)\tLoss Time 0.000 (0.000)\tLoss 1.1967 (1.2523)\tPrec@1 60.000 (56.360)\tPrec@5 98.000 (94.000)\t\n",
      "2023-04-12 20:18:45,836 Test: [25/100]\tModel Time 0.005 (0.006)\tLoss Time 0.000 (0.000)\tLoss 1.5031 (1.2620)\tPrec@1 50.000 (56.115)\tPrec@5 93.000 (93.962)\t\n",
      "2023-04-12 20:18:45,853 Test: [26/100]\tModel Time 0.008 (0.006)\tLoss Time 0.000 (0.000)\tLoss 1.3030 (1.2635)\tPrec@1 53.000 (56.000)\tPrec@5 92.000 (93.889)\t\n",
      "2023-04-12 20:18:45,870 Test: [27/100]\tModel Time 0.006 (0.006)\tLoss Time 0.000 (0.000)\tLoss 1.3235 (1.2656)\tPrec@1 48.000 (55.714)\tPrec@5 97.000 (94.000)\t\n",
      "2023-04-12 20:18:45,890 Test: [28/100]\tModel Time 0.008 (0.006)\tLoss Time 0.000 (0.000)\tLoss 1.2988 (1.2668)\tPrec@1 57.000 (55.759)\tPrec@5 95.000 (94.034)\t\n",
      "2023-04-12 20:18:45,907 Test: [29/100]\tModel Time 0.009 (0.006)\tLoss Time 0.000 (0.000)\tLoss 1.1422 (1.2626)\tPrec@1 58.000 (55.833)\tPrec@5 94.000 (94.033)\t\n",
      "2023-04-12 20:18:45,924 Test: [30/100]\tModel Time 0.006 (0.006)\tLoss Time 0.000 (0.000)\tLoss 1.1679 (1.2596)\tPrec@1 60.000 (55.968)\tPrec@5 97.000 (94.129)\t\n",
      "2023-04-12 20:18:45,941 Test: [31/100]\tModel Time 0.009 (0.006)\tLoss Time 0.000 (0.000)\tLoss 1.2121 (1.2581)\tPrec@1 52.000 (55.844)\tPrec@5 96.000 (94.188)\t\n",
      "2023-04-12 20:18:45,957 Test: [32/100]\tModel Time 0.006 (0.006)\tLoss Time 0.000 (0.000)\tLoss 1.3007 (1.2594)\tPrec@1 54.000 (55.788)\tPrec@5 91.000 (94.091)\t\n",
      "2023-04-12 20:18:45,974 Test: [33/100]\tModel Time 0.007 (0.006)\tLoss Time 0.000 (0.000)\tLoss 1.3467 (1.2619)\tPrec@1 53.000 (55.706)\tPrec@5 94.000 (94.088)\t\n",
      "2023-04-12 20:18:45,990 Test: [34/100]\tModel Time 0.007 (0.006)\tLoss Time 0.000 (0.000)\tLoss 1.2879 (1.2627)\tPrec@1 58.000 (55.771)\tPrec@5 97.000 (94.171)\t\n",
      "2023-04-12 20:18:46,007 Test: [35/100]\tModel Time 0.009 (0.006)\tLoss Time 0.000 (0.000)\tLoss 1.1070 (1.2583)\tPrec@1 56.000 (55.778)\tPrec@5 99.000 (94.306)\t\n",
      "2023-04-12 20:18:46,023 Test: [36/100]\tModel Time 0.006 (0.006)\tLoss Time 0.000 (0.000)\tLoss 1.3955 (1.2621)\tPrec@1 45.000 (55.486)\tPrec@5 92.000 (94.243)\t\n",
      "2023-04-12 20:18:46,039 Test: [37/100]\tModel Time 0.005 (0.006)\tLoss Time 0.000 (0.000)\tLoss 1.2579 (1.2619)\tPrec@1 56.000 (55.500)\tPrec@5 95.000 (94.263)\t\n",
      "2023-04-12 20:18:46,055 Test: [38/100]\tModel Time 0.005 (0.006)\tLoss Time 0.000 (0.000)\tLoss 0.9941 (1.2551)\tPrec@1 69.000 (55.846)\tPrec@5 96.000 (94.308)\t\n",
      "2023-04-12 20:18:46,071 Test: [39/100]\tModel Time 0.005 (0.006)\tLoss Time 0.000 (0.000)\tLoss 1.2528 (1.2550)\tPrec@1 57.000 (55.875)\tPrec@5 94.000 (94.300)\t\n",
      "2023-04-12 20:18:46,088 Test: [40/100]\tModel Time 0.005 (0.006)\tLoss Time 0.000 (0.000)\tLoss 1.1793 (1.2532)\tPrec@1 59.000 (55.951)\tPrec@5 97.000 (94.366)\t\n",
      "2023-04-12 20:18:46,105 Test: [41/100]\tModel Time 0.006 (0.006)\tLoss Time 0.000 (0.000)\tLoss 1.1522 (1.2508)\tPrec@1 64.000 (56.143)\tPrec@5 96.000 (94.405)\t\n",
      "2023-04-12 20:18:46,121 Test: [42/100]\tModel Time 0.006 (0.006)\tLoss Time 0.000 (0.000)\tLoss 1.1414 (1.2482)\tPrec@1 55.000 (56.116)\tPrec@5 96.000 (94.442)\t\n",
      "2023-04-12 20:18:46,138 Test: [43/100]\tModel Time 0.008 (0.006)\tLoss Time 0.000 (0.000)\tLoss 1.2085 (1.2473)\tPrec@1 59.000 (56.182)\tPrec@5 93.000 (94.409)\t\n",
      "2023-04-12 20:18:46,155 Test: [44/100]\tModel Time 0.005 (0.006)\tLoss Time 0.000 (0.000)\tLoss 1.1099 (1.2443)\tPrec@1 64.000 (56.356)\tPrec@5 96.000 (94.444)\t\n",
      "2023-04-12 20:18:46,171 Test: [45/100]\tModel Time 0.005 (0.006)\tLoss Time 0.000 (0.000)\tLoss 1.1977 (1.2433)\tPrec@1 58.000 (56.391)\tPrec@5 97.000 (94.500)\t\n",
      "2023-04-12 20:18:46,187 Test: [46/100]\tModel Time 0.005 (0.006)\tLoss Time 0.000 (0.000)\tLoss 1.1547 (1.2414)\tPrec@1 54.000 (56.340)\tPrec@5 98.000 (94.574)\t\n",
      "2023-04-12 20:18:46,204 Test: [47/100]\tModel Time 0.008 (0.006)\tLoss Time 0.000 (0.000)\tLoss 1.2448 (1.2414)\tPrec@1 60.000 (56.417)\tPrec@5 92.000 (94.521)\t\n",
      "2023-04-12 20:18:46,220 Test: [48/100]\tModel Time 0.005 (0.006)\tLoss Time 0.000 (0.000)\tLoss 1.0609 (1.2378)\tPrec@1 65.000 (56.592)\tPrec@5 97.000 (94.571)\t\n",
      "2023-04-12 20:18:46,236 Test: [49/100]\tModel Time 0.005 (0.006)\tLoss Time 0.000 (0.000)\tLoss 1.2339 (1.2377)\tPrec@1 61.000 (56.680)\tPrec@5 94.000 (94.560)\t\n",
      "2023-04-12 20:18:46,252 Test: [50/100]\tModel Time 0.005 (0.006)\tLoss Time 0.000 (0.000)\tLoss 1.2024 (1.2370)\tPrec@1 55.000 (56.647)\tPrec@5 98.000 (94.627)\t\n",
      "2023-04-12 20:18:46,269 Test: [51/100]\tModel Time 0.008 (0.006)\tLoss Time 0.000 (0.000)\tLoss 1.2631 (1.2375)\tPrec@1 52.000 (56.558)\tPrec@5 96.000 (94.654)\t\n",
      "2023-04-12 20:18:46,286 Test: [52/100]\tModel Time 0.005 (0.006)\tLoss Time 0.000 (0.000)\tLoss 1.2622 (1.2380)\tPrec@1 54.000 (56.509)\tPrec@5 94.000 (94.642)\t\n",
      "2023-04-12 20:18:46,308 Test: [53/100]\tModel Time 0.009 (0.006)\tLoss Time 0.000 (0.000)\tLoss 1.3701 (1.2404)\tPrec@1 48.000 (56.352)\tPrec@5 91.000 (94.574)\t\n",
      "2023-04-12 20:18:46,327 Test: [54/100]\tModel Time 0.008 (0.006)\tLoss Time 0.000 (0.000)\tLoss 1.2071 (1.2398)\tPrec@1 56.000 (56.345)\tPrec@5 94.000 (94.564)\t\n",
      "2023-04-12 20:18:46,347 Test: [55/100]\tModel Time 0.012 (0.006)\tLoss Time 0.000 (0.000)\tLoss 1.3018 (1.2409)\tPrec@1 53.000 (56.286)\tPrec@5 97.000 (94.607)\t\n",
      "2023-04-12 20:18:46,364 Test: [56/100]\tModel Time 0.005 (0.006)\tLoss Time 0.000 (0.000)\tLoss 1.2481 (1.2410)\tPrec@1 57.000 (56.298)\tPrec@5 94.000 (94.596)\t\n",
      "2023-04-12 20:18:46,382 Test: [57/100]\tModel Time 0.006 (0.006)\tLoss Time 0.000 (0.000)\tLoss 1.1333 (1.2392)\tPrec@1 59.000 (56.345)\tPrec@5 98.000 (94.655)\t\n",
      "2023-04-12 20:18:46,399 Test: [58/100]\tModel Time 0.008 (0.006)\tLoss Time 0.000 (0.000)\tLoss 1.3339 (1.2408)\tPrec@1 54.000 (56.305)\tPrec@5 95.000 (94.661)\t\n",
      "2023-04-12 20:18:46,416 Test: [59/100]\tModel Time 0.006 (0.006)\tLoss Time 0.000 (0.000)\tLoss 1.2618 (1.2411)\tPrec@1 58.000 (56.333)\tPrec@5 92.000 (94.617)\t\n",
      "2023-04-12 20:18:46,433 Test: [60/100]\tModel Time 0.006 (0.006)\tLoss Time 0.000 (0.000)\tLoss 1.2630 (1.2415)\tPrec@1 54.000 (56.295)\tPrec@5 97.000 (94.656)\t\n",
      "2023-04-12 20:18:46,449 Test: [61/100]\tModel Time 0.005 (0.006)\tLoss Time 0.000 (0.000)\tLoss 1.2200 (1.2411)\tPrec@1 55.000 (56.274)\tPrec@5 95.000 (94.661)\t\n",
      "2023-04-12 20:18:46,466 Test: [62/100]\tModel Time 0.006 (0.006)\tLoss Time 0.000 (0.000)\tLoss 1.2659 (1.2415)\tPrec@1 54.000 (56.238)\tPrec@5 98.000 (94.714)\t\n",
      "2023-04-12 20:18:46,483 Test: [63/100]\tModel Time 0.005 (0.006)\tLoss Time 0.000 (0.000)\tLoss 1.2653 (1.2419)\tPrec@1 59.000 (56.281)\tPrec@5 92.000 (94.672)\t\n",
      "2023-04-12 20:18:46,500 Test: [64/100]\tModel Time 0.005 (0.006)\tLoss Time 0.000 (0.000)\tLoss 1.3082 (1.2429)\tPrec@1 59.000 (56.323)\tPrec@5 92.000 (94.631)\t\n",
      "2023-04-12 20:18:46,517 Test: [65/100]\tModel Time 0.005 (0.006)\tLoss Time 0.000 (0.000)\tLoss 1.2492 (1.2430)\tPrec@1 53.000 (56.273)\tPrec@5 91.000 (94.576)\t\n",
      "2023-04-12 20:18:46,534 Test: [66/100]\tModel Time 0.005 (0.006)\tLoss Time 0.000 (0.000)\tLoss 1.2222 (1.2427)\tPrec@1 58.000 (56.299)\tPrec@5 97.000 (94.612)\t\n",
      "2023-04-12 20:18:46,551 Test: [67/100]\tModel Time 0.005 (0.006)\tLoss Time 0.000 (0.000)\tLoss 1.4190 (1.2453)\tPrec@1 54.000 (56.265)\tPrec@5 93.000 (94.588)\t\n",
      "2023-04-12 20:18:46,567 Test: [68/100]\tModel Time 0.006 (0.006)\tLoss Time 0.000 (0.000)\tLoss 1.3661 (1.2471)\tPrec@1 48.000 (56.145)\tPrec@5 95.000 (94.594)\t\n",
      "2023-04-12 20:18:46,584 Test: [69/100]\tModel Time 0.005 (0.006)\tLoss Time 0.000 (0.000)\tLoss 1.4039 (1.2493)\tPrec@1 52.000 (56.086)\tPrec@5 96.000 (94.614)\t\n",
      "2023-04-12 20:18:46,600 Test: [70/100]\tModel Time 0.005 (0.006)\tLoss Time 0.000 (0.000)\tLoss 1.2253 (1.2490)\tPrec@1 60.000 (56.141)\tPrec@5 96.000 (94.634)\t\n",
      "2023-04-12 20:18:46,617 Test: [71/100]\tModel Time 0.005 (0.006)\tLoss Time 0.000 (0.000)\tLoss 1.2983 (1.2496)\tPrec@1 62.000 (56.222)\tPrec@5 91.000 (94.583)\t\n",
      "2023-04-12 20:18:46,634 Test: [72/100]\tModel Time 0.006 (0.006)\tLoss Time 0.000 (0.000)\tLoss 1.1335 (1.2481)\tPrec@1 60.000 (56.274)\tPrec@5 99.000 (94.644)\t\n",
      "2023-04-12 20:18:46,651 Test: [73/100]\tModel Time 0.005 (0.006)\tLoss Time 0.000 (0.000)\tLoss 1.0823 (1.2458)\tPrec@1 57.000 (56.284)\tPrec@5 98.000 (94.689)\t\n",
      "2023-04-12 20:18:46,667 Test: [74/100]\tModel Time 0.006 (0.006)\tLoss Time 0.000 (0.000)\tLoss 1.2775 (1.2462)\tPrec@1 54.000 (56.253)\tPrec@5 95.000 (94.693)\t\n",
      "2023-04-12 20:18:46,684 Test: [75/100]\tModel Time 0.005 (0.006)\tLoss Time 0.000 (0.000)\tLoss 1.2509 (1.2463)\tPrec@1 59.000 (56.289)\tPrec@5 92.000 (94.658)\t\n",
      "2023-04-12 20:18:46,701 Test: [76/100]\tModel Time 0.005 (0.006)\tLoss Time 0.000 (0.000)\tLoss 1.1803 (1.2454)\tPrec@1 61.000 (56.351)\tPrec@5 96.000 (94.675)\t\n",
      "2023-04-12 20:18:46,717 Test: [77/100]\tModel Time 0.006 (0.006)\tLoss Time 0.000 (0.000)\tLoss 1.1706 (1.2445)\tPrec@1 60.000 (56.397)\tPrec@5 95.000 (94.679)\t\n",
      "2023-04-12 20:18:46,735 Test: [78/100]\tModel Time 0.006 (0.006)\tLoss Time 0.000 (0.000)\tLoss 1.2739 (1.2449)\tPrec@1 54.000 (56.367)\tPrec@5 96.000 (94.696)\t\n",
      "2023-04-12 20:18:46,751 Test: [79/100]\tModel Time 0.006 (0.006)\tLoss Time 0.000 (0.000)\tLoss 1.2245 (1.2446)\tPrec@1 54.000 (56.337)\tPrec@5 96.000 (94.713)\t\n",
      "2023-04-12 20:18:46,768 Test: [80/100]\tModel Time 0.005 (0.006)\tLoss Time 0.000 (0.000)\tLoss 1.2010 (1.2441)\tPrec@1 58.000 (56.358)\tPrec@5 93.000 (94.691)\t\n",
      "2023-04-12 20:18:46,785 Test: [81/100]\tModel Time 0.008 (0.006)\tLoss Time 0.000 (0.000)\tLoss 1.2563 (1.2442)\tPrec@1 49.000 (56.268)\tPrec@5 97.000 (94.720)\t\n",
      "2023-04-12 20:18:46,803 Test: [82/100]\tModel Time 0.008 (0.006)\tLoss Time 0.000 (0.000)\tLoss 1.4570 (1.2468)\tPrec@1 48.000 (56.169)\tPrec@5 94.000 (94.711)\t\n",
      "2023-04-12 20:18:46,819 Test: [83/100]\tModel Time 0.005 (0.006)\tLoss Time 0.000 (0.000)\tLoss 1.2023 (1.2462)\tPrec@1 55.000 (56.155)\tPrec@5 95.000 (94.714)\t\n",
      "2023-04-12 20:18:46,837 Test: [84/100]\tModel Time 0.006 (0.006)\tLoss Time 0.000 (0.000)\tLoss 1.2975 (1.2468)\tPrec@1 57.000 (56.165)\tPrec@5 93.000 (94.694)\t\n",
      "2023-04-12 20:18:46,855 Test: [85/100]\tModel Time 0.005 (0.006)\tLoss Time 0.000 (0.000)\tLoss 1.2518 (1.2469)\tPrec@1 58.000 (56.186)\tPrec@5 89.000 (94.628)\t\n",
      "2023-04-12 20:18:46,872 Test: [86/100]\tModel Time 0.006 (0.006)\tLoss Time 0.000 (0.000)\tLoss 1.5288 (1.2501)\tPrec@1 42.000 (56.023)\tPrec@5 91.000 (94.586)\t\n",
      "2023-04-12 20:18:46,889 Test: [87/100]\tModel Time 0.006 (0.006)\tLoss Time 0.000 (0.000)\tLoss 1.2841 (1.2505)\tPrec@1 55.000 (56.011)\tPrec@5 93.000 (94.568)\t\n",
      "2023-04-12 20:18:46,906 Test: [88/100]\tModel Time 0.006 (0.006)\tLoss Time 0.000 (0.000)\tLoss 1.2440 (1.2505)\tPrec@1 57.000 (56.022)\tPrec@5 92.000 (94.539)\t\n",
      "2023-04-12 20:18:46,922 Test: [89/100]\tModel Time 0.006 (0.006)\tLoss Time 0.000 (0.000)\tLoss 1.2996 (1.2510)\tPrec@1 50.000 (55.956)\tPrec@5 91.000 (94.500)\t\n",
      "2023-04-12 20:18:46,939 Test: [90/100]\tModel Time 0.006 (0.006)\tLoss Time 0.000 (0.000)\tLoss 1.2863 (1.2514)\tPrec@1 48.000 (55.868)\tPrec@5 94.000 (94.495)\t\n",
      "2023-04-12 20:18:46,955 Test: [91/100]\tModel Time 0.005 (0.006)\tLoss Time 0.000 (0.000)\tLoss 1.2023 (1.2509)\tPrec@1 62.000 (55.935)\tPrec@5 93.000 (94.478)\t\n",
      "2023-04-12 20:18:46,972 Test: [92/100]\tModel Time 0.006 (0.006)\tLoss Time 0.000 (0.000)\tLoss 1.0558 (1.2488)\tPrec@1 61.000 (55.989)\tPrec@5 96.000 (94.495)\t\n",
      "2023-04-12 20:18:46,989 Test: [93/100]\tModel Time 0.006 (0.006)\tLoss Time 0.000 (0.000)\tLoss 1.2369 (1.2486)\tPrec@1 54.000 (55.968)\tPrec@5 94.000 (94.489)\t\n",
      "2023-04-12 20:18:47,005 Test: [94/100]\tModel Time 0.006 (0.006)\tLoss Time 0.000 (0.000)\tLoss 1.2862 (1.2490)\tPrec@1 51.000 (55.916)\tPrec@5 93.000 (94.474)\t\n",
      "2023-04-12 20:18:47,022 Test: [95/100]\tModel Time 0.005 (0.006)\tLoss Time 0.000 (0.000)\tLoss 1.2346 (1.2489)\tPrec@1 53.000 (55.885)\tPrec@5 93.000 (94.458)\t\n",
      "2023-04-12 20:18:47,038 Test: [96/100]\tModel Time 0.005 (0.006)\tLoss Time 0.000 (0.000)\tLoss 1.1633 (1.2480)\tPrec@1 54.000 (55.866)\tPrec@5 94.000 (94.454)\t\n",
      "2023-04-12 20:18:47,055 Test: [97/100]\tModel Time 0.005 (0.006)\tLoss Time 0.000 (0.000)\tLoss 1.3725 (1.2493)\tPrec@1 51.000 (55.816)\tPrec@5 93.000 (94.439)\t\n",
      "2023-04-12 20:18:47,071 Test: [98/100]\tModel Time 0.005 (0.006)\tLoss Time 0.000 (0.000)\tLoss 1.2784 (1.2496)\tPrec@1 48.000 (55.737)\tPrec@5 95.000 (94.444)\t\n",
      "2023-04-12 20:18:47,088 Test: [99/100]\tModel Time 0.005 (0.006)\tLoss Time 0.000 (0.000)\tLoss 1.3251 (1.2503)\tPrec@1 52.000 (55.700)\tPrec@5 95.000 (94.450)\t\n",
      "2023-04-12 20:18:47,130 Saving checkpoint model to /home/shah/Documents/Polymtl/ELE6301E/Final_Project/Efficient_DNN_Implementation/training/output/checkpoints/best.tar\n"
     ]
    }
   ],
   "source": [
    "model = CNV(num_classes=10, weight_bit_width=1, act_bit_width=1, in_bit_width=8, in_ch=3)\n",
    "epochs = 1\n",
    "trainer = Trainer(model, epochs)\n",
    "model = trainer.train_model()"
   ]
  },
  {
   "cell_type": "code",
   "execution_count": 38,
   "metadata": {},
   "outputs": [
    {
     "ename": "TypeError",
     "evalue": "export() got an unexpected keyword argument 'enable_onnx_checker'",
     "output_type": "error",
     "traceback": [
      "\u001b[0;31m---------------------------------------------------------------------------\u001b[0m",
      "\u001b[0;31mTypeError\u001b[0m                                 Traceback (most recent call last)",
      "Cell \u001b[0;32mIn[38], line 6\u001b[0m\n\u001b[1;32m      3\u001b[0m \u001b[39minput\u001b[39m \u001b[39m=\u001b[39m torch\u001b[39m.\u001b[39mrandn(\u001b[39m1\u001b[39m, \u001b[39m3\u001b[39m, \u001b[39m32\u001b[39m, \u001b[39m32\u001b[39m)\n\u001b[1;32m      5\u001b[0m model \u001b[39m=\u001b[39m model\u001b[39m.\u001b[39mto(\u001b[39m\"\u001b[39m\u001b[39mcpu\u001b[39m\u001b[39m\"\u001b[39m)\n\u001b[0;32m----> 6\u001b[0m bo\u001b[39m.\u001b[39;49mexport_finn_onnx(model, (\u001b[39m1\u001b[39;49m,\u001b[39m3\u001b[39;49m,\u001b[39m32\u001b[39;49m,\u001b[39m32\u001b[39;49m), output_path)\n",
      "File \u001b[0;32m~/.local/lib/python3.8/site-packages/brevitas/export/__init__.py:14\u001b[0m, in \u001b[0;36mexport_finn_onnx\u001b[0;34m(*args, **kwargs)\u001b[0m\n\u001b[1;32m     12\u001b[0m \u001b[39m@wraps\u001b[39m(FINNManager\u001b[39m.\u001b[39mexport)\n\u001b[1;32m     13\u001b[0m \u001b[39mdef\u001b[39;00m \u001b[39mexport_finn_onnx\u001b[39m(\u001b[39m*\u001b[39margs, \u001b[39m*\u001b[39m\u001b[39m*\u001b[39mkwargs):\n\u001b[0;32m---> 14\u001b[0m     \u001b[39mreturn\u001b[39;00m FINNManager\u001b[39m.\u001b[39;49mexport(\u001b[39m*\u001b[39;49margs, \u001b[39m*\u001b[39;49m\u001b[39m*\u001b[39;49mkwargs)\n",
      "File \u001b[0;32m~/.local/lib/python3.8/site-packages/brevitas/export/onnx/finn/manager.py:125\u001b[0m, in \u001b[0;36mFINNManager.export\u001b[0;34m(cls, module, input_shape, export_path, input_t, **kwargs)\u001b[0m\n\u001b[1;32m    123\u001b[0m     module \u001b[39m=\u001b[39m Sequential(preprocessing_module, module)\n\u001b[1;32m    124\u001b[0m     module\u001b[39m.\u001b[39mtrain(training_state)\n\u001b[0;32m--> 125\u001b[0m onnx_model \u001b[39m=\u001b[39m \u001b[39mcls\u001b[39;49m\u001b[39m.\u001b[39;49mexport_onnx(\n\u001b[1;32m    126\u001b[0m     module, input_shape, export_path, input_t, \u001b[39m*\u001b[39;49m\u001b[39m*\u001b[39;49mkwargs)\n\u001b[1;32m    127\u001b[0m \u001b[39mif\u001b[39;00m input_t \u001b[39mis\u001b[39;00m \u001b[39mnot\u001b[39;00m \u001b[39mNone\u001b[39;00m \u001b[39mand\u001b[39;00m \u001b[39misinstance\u001b[39m(input_t, QuantTensor):\n\u001b[1;32m    128\u001b[0m     bit_width \u001b[39m=\u001b[39m input_t\u001b[39m.\u001b[39mbit_width\n",
      "File \u001b[0;32m~/.local/lib/python3.8/site-packages/brevitas/export/onnx/manager.py:111\u001b[0m, in \u001b[0;36mONNXBaseManager.export_onnx\u001b[0;34m(cls, module, input_shape, export_path, input_t, disable_warnings, **kwargs)\u001b[0m\n\u001b[1;32m    109\u001b[0m         model_bytes \u001b[39m=\u001b[39m BytesIO()\n\u001b[1;32m    110\u001b[0m         export_target \u001b[39m=\u001b[39m model_bytes\n\u001b[0;32m--> 111\u001b[0m     torch\u001b[39m.\u001b[39;49monnx\u001b[39m.\u001b[39;49mexport(module, input_t, export_target, \u001b[39m*\u001b[39;49m\u001b[39m*\u001b[39;49mkwargs)\n\u001b[1;32m    113\u001b[0m \u001b[39m# restore the model to previous properties\u001b[39;00m\n\u001b[1;32m    114\u001b[0m module\u001b[39m.\u001b[39mapply(\u001b[39mlambda\u001b[39;00m m: _restore_inp_caching_mode(m))\n",
      "\u001b[0;31mTypeError\u001b[0m: export() got an unexpected keyword argument 'enable_onnx_checker'"
     ]
    }
   ],
   "source": [
    "import brevitas.onnx as bo\n",
    "output_path = \"model_W1A1.onnx\"\n",
    "input = (1, 3, 32, 32)\n",
    "\n",
    "model = model.to(\"cpu\")\n",
    "bo.export_finn_onnx(model, input, output_path)"
   ]
  },
  {
   "attachments": {},
   "cell_type": "markdown",
   "metadata": {},
   "source": [
    "## W1A2"
   ]
  },
  {
   "cell_type": "code",
   "execution_count": null,
   "metadata": {},
   "outputs": [],
   "source": [
    "model = CNV(num_classes=10, weight_bit_width=1, act_bit_width=2, in_bit_width=8, in_ch=3)\n",
    "epochs = 100\n",
    "trainer = Trainer(model, epochs)\n",
    "model = trainer.train_model()"
   ]
  },
  {
   "cell_type": "code",
   "execution_count": null,
   "metadata": {},
   "outputs": [],
   "source": [
    "output_path = \"model_W1A2.onnx\"\n",
    "input = (1, 3, 32, 32)\n",
    "\n",
    "model = model.to(\"cpu\")\n",
    "bo.export_finn_onnx(model, input, output_path)"
   ]
  },
  {
   "attachments": {},
   "cell_type": "markdown",
   "metadata": {},
   "source": [
    "## W2A1"
   ]
  },
  {
   "cell_type": "code",
   "execution_count": null,
   "metadata": {},
   "outputs": [],
   "source": [
    "model = CNV(num_classes=10, weight_bit_width=2, act_bit_width=1, in_bit_width=8, in_ch=3)\n",
    "epochs = 100\n",
    "trainer = Trainer(model, epochs)\n",
    "model = trainer.train_model()"
   ]
  },
  {
   "cell_type": "code",
   "execution_count": null,
   "metadata": {},
   "outputs": [],
   "source": [
    "output_path = \"model_W2A1.onnx\"\n",
    "input = (1, 3, 32, 32)\n",
    "\n",
    "model = model.to(\"cpu\")\n",
    "bo.export_finn_onnx(model, input, output_path)"
   ]
  },
  {
   "attachments": {},
   "cell_type": "markdown",
   "metadata": {},
   "source": [
    "## W2A2"
   ]
  },
  {
   "cell_type": "code",
   "execution_count": null,
   "metadata": {},
   "outputs": [],
   "source": [
    "model = CNV(num_classes=10, weight_bit_width=2, act_bit_width=2, in_bit_width=8, in_ch=3)\n",
    "epochs = 100\n",
    "trainer = Trainer(model, epochs)\n",
    "model = trainer.train_model()"
   ]
  },
  {
   "cell_type": "code",
   "execution_count": null,
   "metadata": {},
   "outputs": [],
   "source": [
    "output_path = \"model_W2A2.onnx\"\n",
    "input = (1, 3, 32, 32)\n",
    "\n",
    "model = model.to(\"cpu\")\n",
    "bo.export_finn_onnx(model, input, output_path)"
   ]
  },
  {
   "attachments": {},
   "cell_type": "markdown",
   "metadata": {},
   "source": [
    "## W1A3"
   ]
  },
  {
   "cell_type": "code",
   "execution_count": null,
   "metadata": {},
   "outputs": [],
   "source": [
    "model = CNV(num_classes=10, weight_bit_width=1, act_bit_width=3, in_bit_width=8, in_ch=3)\n",
    "epochs = 100\n",
    "trainer = Trainer(model, epochs)\n",
    "model = trainer.train_model()"
   ]
  },
  {
   "cell_type": "code",
   "execution_count": null,
   "metadata": {},
   "outputs": [],
   "source": [
    "output_path = \"model_W1A3.onnx\"\n",
    "input = (1, 3, 32, 32)\n",
    "\n",
    "model = model.to(\"cpu\")\n",
    "bo.export_finn_onnx(model, input, output_path)"
   ]
  },
  {
   "attachments": {},
   "cell_type": "markdown",
   "metadata": {},
   "source": [
    "## W3A1"
   ]
  },
  {
   "cell_type": "code",
   "execution_count": null,
   "metadata": {},
   "outputs": [],
   "source": [
    "model = CNV(num_classes=10, weight_bit_width=3, act_bit_width=1, in_bit_width=8, in_ch=3)\n",
    "epochs = 100\n",
    "trainer = Trainer(model, epochs)\n",
    "model = trainer.train_model()"
   ]
  },
  {
   "cell_type": "code",
   "execution_count": null,
   "metadata": {},
   "outputs": [],
   "source": [
    "output_path = \"model_W3A1.onnx\"\n",
    "input = (1, 3, 32, 32)\n",
    "\n",
    "model = model.to(\"cpu\")\n",
    "bo.export_finn_onnx(model, input, output_path)"
   ]
  },
  {
   "attachments": {},
   "cell_type": "markdown",
   "metadata": {},
   "source": [
    "## W2A3"
   ]
  },
  {
   "cell_type": "code",
   "execution_count": null,
   "metadata": {},
   "outputs": [],
   "source": [
    "model = CNV(num_classes=10, weight_bit_width=2, act_bit_width=3, in_bit_width=8, in_ch=3)\n",
    "epochs = 100\n",
    "trainer = Trainer(model, epochs)\n",
    "model = trainer.train_model()"
   ]
  },
  {
   "cell_type": "code",
   "execution_count": null,
   "metadata": {},
   "outputs": [],
   "source": [
    "output_path = \"model_W2A3.onnx\"\n",
    "input = (1, 3, 32, 32)\n",
    "\n",
    "model = model.to(\"cpu\")\n",
    "bo.export_finn_onnx(model, input, output_path)"
   ]
  },
  {
   "attachments": {},
   "cell_type": "markdown",
   "metadata": {},
   "source": [
    "## W3A2"
   ]
  },
  {
   "cell_type": "code",
   "execution_count": null,
   "metadata": {},
   "outputs": [],
   "source": [
    "model = CNV(num_classes=10, weight_bit_width=3, act_bit_width=2, in_bit_width=8, in_ch=3)\n",
    "epochs = 100\n",
    "trainer = Trainer(model, epochs)\n",
    "model = trainer.train_model()"
   ]
  },
  {
   "cell_type": "code",
   "execution_count": null,
   "metadata": {},
   "outputs": [],
   "source": [
    "output_path = \"model_W3A2.onnx\"\n",
    "input = (1, 3, 32, 32)\n",
    "\n",
    "model = model.to(\"cpu\")\n",
    "bo.export_finn_onnx(model, input, output_path)"
   ]
  },
  {
   "attachments": {},
   "cell_type": "markdown",
   "metadata": {},
   "source": [
    "## W3A3"
   ]
  },
  {
   "cell_type": "code",
   "execution_count": null,
   "metadata": {},
   "outputs": [],
   "source": [
    "model = CNV(num_classes=10, weight_bit_width=3, act_bit_width=3, in_bit_width=8, in_ch=3)\n",
    "epochs = 100\n",
    "trainer = Trainer(model, epochs)\n",
    "model = trainer.train_model()"
   ]
  },
  {
   "cell_type": "code",
   "execution_count": null,
   "metadata": {},
   "outputs": [],
   "source": [
    "output_path = \"model_W3A3.onnx\"\n",
    "input = (1, 3, 32, 32)\n",
    "\n",
    "model = model.to(\"cpu\")\n",
    "bo.export_finn_onnx(model, input, output_path)"
   ]
  }
 ],
 "metadata": {
  "kernelspec": {
   "display_name": "Python 3",
   "language": "python",
   "name": "python3"
  },
  "language_info": {
   "codemirror_mode": {
    "name": "ipython",
    "version": 3
   },
   "file_extension": ".py",
   "mimetype": "text/x-python",
   "name": "python",
   "nbconvert_exporter": "python",
   "pygments_lexer": "ipython3",
   "version": "3.8.10"
  },
  "orig_nbformat": 4
 },
 "nbformat": 4,
 "nbformat_minor": 2
}
