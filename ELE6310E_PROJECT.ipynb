{
  "nbformat": 4,
  "nbformat_minor": 0,
  "metadata": {
    "colab": {
      "provenance": [],
      "machine_shape": "hm"
    },
    "kernelspec": {
      "name": "python3",
      "display_name": "Python 3"
    },
    "language_info": {
      "name": "python"
    },
    "accelerator": "GPU",
    "gpuClass": "standard",
    "widgets": {
      "application/vnd.jupyter.widget-state+json": {
        "a7ab69899cc34a55a69e089ae4ae7c4a": {
          "model_module": "@jupyter-widgets/controls",
          "model_name": "HBoxModel",
          "model_module_version": "1.5.0",
          "state": {
            "_dom_classes": [],
            "_model_module": "@jupyter-widgets/controls",
            "_model_module_version": "1.5.0",
            "_model_name": "HBoxModel",
            "_view_count": null,
            "_view_module": "@jupyter-widgets/controls",
            "_view_module_version": "1.5.0",
            "_view_name": "HBoxView",
            "box_style": "",
            "children": [
              "IPY_MODEL_02b28ff829cf478e966850d04ba0814b",
              "IPY_MODEL_a4d8c6c14f724975a87cc4afecfc8169",
              "IPY_MODEL_1688905284224b18b272a73b509b47c3"
            ],
            "layout": "IPY_MODEL_7bb0f97ff5dc45539b0070553949aef8"
          }
        },
        "02b28ff829cf478e966850d04ba0814b": {
          "model_module": "@jupyter-widgets/controls",
          "model_name": "HTMLModel",
          "model_module_version": "1.5.0",
          "state": {
            "_dom_classes": [],
            "_model_module": "@jupyter-widgets/controls",
            "_model_module_version": "1.5.0",
            "_model_name": "HTMLModel",
            "_view_count": null,
            "_view_module": "@jupyter-widgets/controls",
            "_view_module_version": "1.5.0",
            "_view_name": "HTMLView",
            "description": "",
            "description_tooltip": null,
            "layout": "IPY_MODEL_87171d286bab4935899c88b10753edbc",
            "placeholder": "​",
            "style": "IPY_MODEL_1e4a91d9d43b40f38cf5f92d249fdd5f",
            "value": "100%"
          }
        },
        "a4d8c6c14f724975a87cc4afecfc8169": {
          "model_module": "@jupyter-widgets/controls",
          "model_name": "FloatProgressModel",
          "model_module_version": "1.5.0",
          "state": {
            "_dom_classes": [],
            "_model_module": "@jupyter-widgets/controls",
            "_model_module_version": "1.5.0",
            "_model_name": "FloatProgressModel",
            "_view_count": null,
            "_view_module": "@jupyter-widgets/controls",
            "_view_module_version": "1.5.0",
            "_view_name": "ProgressView",
            "bar_style": "success",
            "description": "",
            "description_tooltip": null,
            "layout": "IPY_MODEL_c7fbcc8fa06543b7a29c40f458351dd7",
            "max": 170498071,
            "min": 0,
            "orientation": "horizontal",
            "style": "IPY_MODEL_5c0b5cc1ee49489b9394768e9e87e7a2",
            "value": 170498071
          }
        },
        "1688905284224b18b272a73b509b47c3": {
          "model_module": "@jupyter-widgets/controls",
          "model_name": "HTMLModel",
          "model_module_version": "1.5.0",
          "state": {
            "_dom_classes": [],
            "_model_module": "@jupyter-widgets/controls",
            "_model_module_version": "1.5.0",
            "_model_name": "HTMLModel",
            "_view_count": null,
            "_view_module": "@jupyter-widgets/controls",
            "_view_module_version": "1.5.0",
            "_view_name": "HTMLView",
            "description": "",
            "description_tooltip": null,
            "layout": "IPY_MODEL_5d5a9e7fb6524a9b9e2915b120656c17",
            "placeholder": "​",
            "style": "IPY_MODEL_d840558f99004431b65d6547ff755c88",
            "value": " 170498071/170498071 [00:10&lt;00:00, 17040015.91it/s]"
          }
        },
        "7bb0f97ff5dc45539b0070553949aef8": {
          "model_module": "@jupyter-widgets/base",
          "model_name": "LayoutModel",
          "model_module_version": "1.2.0",
          "state": {
            "_model_module": "@jupyter-widgets/base",
            "_model_module_version": "1.2.0",
            "_model_name": "LayoutModel",
            "_view_count": null,
            "_view_module": "@jupyter-widgets/base",
            "_view_module_version": "1.2.0",
            "_view_name": "LayoutView",
            "align_content": null,
            "align_items": null,
            "align_self": null,
            "border": null,
            "bottom": null,
            "display": null,
            "flex": null,
            "flex_flow": null,
            "grid_area": null,
            "grid_auto_columns": null,
            "grid_auto_flow": null,
            "grid_auto_rows": null,
            "grid_column": null,
            "grid_gap": null,
            "grid_row": null,
            "grid_template_areas": null,
            "grid_template_columns": null,
            "grid_template_rows": null,
            "height": null,
            "justify_content": null,
            "justify_items": null,
            "left": null,
            "margin": null,
            "max_height": null,
            "max_width": null,
            "min_height": null,
            "min_width": null,
            "object_fit": null,
            "object_position": null,
            "order": null,
            "overflow": null,
            "overflow_x": null,
            "overflow_y": null,
            "padding": null,
            "right": null,
            "top": null,
            "visibility": null,
            "width": null
          }
        },
        "87171d286bab4935899c88b10753edbc": {
          "model_module": "@jupyter-widgets/base",
          "model_name": "LayoutModel",
          "model_module_version": "1.2.0",
          "state": {
            "_model_module": "@jupyter-widgets/base",
            "_model_module_version": "1.2.0",
            "_model_name": "LayoutModel",
            "_view_count": null,
            "_view_module": "@jupyter-widgets/base",
            "_view_module_version": "1.2.0",
            "_view_name": "LayoutView",
            "align_content": null,
            "align_items": null,
            "align_self": null,
            "border": null,
            "bottom": null,
            "display": null,
            "flex": null,
            "flex_flow": null,
            "grid_area": null,
            "grid_auto_columns": null,
            "grid_auto_flow": null,
            "grid_auto_rows": null,
            "grid_column": null,
            "grid_gap": null,
            "grid_row": null,
            "grid_template_areas": null,
            "grid_template_columns": null,
            "grid_template_rows": null,
            "height": null,
            "justify_content": null,
            "justify_items": null,
            "left": null,
            "margin": null,
            "max_height": null,
            "max_width": null,
            "min_height": null,
            "min_width": null,
            "object_fit": null,
            "object_position": null,
            "order": null,
            "overflow": null,
            "overflow_x": null,
            "overflow_y": null,
            "padding": null,
            "right": null,
            "top": null,
            "visibility": null,
            "width": null
          }
        },
        "1e4a91d9d43b40f38cf5f92d249fdd5f": {
          "model_module": "@jupyter-widgets/controls",
          "model_name": "DescriptionStyleModel",
          "model_module_version": "1.5.0",
          "state": {
            "_model_module": "@jupyter-widgets/controls",
            "_model_module_version": "1.5.0",
            "_model_name": "DescriptionStyleModel",
            "_view_count": null,
            "_view_module": "@jupyter-widgets/base",
            "_view_module_version": "1.2.0",
            "_view_name": "StyleView",
            "description_width": ""
          }
        },
        "c7fbcc8fa06543b7a29c40f458351dd7": {
          "model_module": "@jupyter-widgets/base",
          "model_name": "LayoutModel",
          "model_module_version": "1.2.0",
          "state": {
            "_model_module": "@jupyter-widgets/base",
            "_model_module_version": "1.2.0",
            "_model_name": "LayoutModel",
            "_view_count": null,
            "_view_module": "@jupyter-widgets/base",
            "_view_module_version": "1.2.0",
            "_view_name": "LayoutView",
            "align_content": null,
            "align_items": null,
            "align_self": null,
            "border": null,
            "bottom": null,
            "display": null,
            "flex": null,
            "flex_flow": null,
            "grid_area": null,
            "grid_auto_columns": null,
            "grid_auto_flow": null,
            "grid_auto_rows": null,
            "grid_column": null,
            "grid_gap": null,
            "grid_row": null,
            "grid_template_areas": null,
            "grid_template_columns": null,
            "grid_template_rows": null,
            "height": null,
            "justify_content": null,
            "justify_items": null,
            "left": null,
            "margin": null,
            "max_height": null,
            "max_width": null,
            "min_height": null,
            "min_width": null,
            "object_fit": null,
            "object_position": null,
            "order": null,
            "overflow": null,
            "overflow_x": null,
            "overflow_y": null,
            "padding": null,
            "right": null,
            "top": null,
            "visibility": null,
            "width": null
          }
        },
        "5c0b5cc1ee49489b9394768e9e87e7a2": {
          "model_module": "@jupyter-widgets/controls",
          "model_name": "ProgressStyleModel",
          "model_module_version": "1.5.0",
          "state": {
            "_model_module": "@jupyter-widgets/controls",
            "_model_module_version": "1.5.0",
            "_model_name": "ProgressStyleModel",
            "_view_count": null,
            "_view_module": "@jupyter-widgets/base",
            "_view_module_version": "1.2.0",
            "_view_name": "StyleView",
            "bar_color": null,
            "description_width": ""
          }
        },
        "5d5a9e7fb6524a9b9e2915b120656c17": {
          "model_module": "@jupyter-widgets/base",
          "model_name": "LayoutModel",
          "model_module_version": "1.2.0",
          "state": {
            "_model_module": "@jupyter-widgets/base",
            "_model_module_version": "1.2.0",
            "_model_name": "LayoutModel",
            "_view_count": null,
            "_view_module": "@jupyter-widgets/base",
            "_view_module_version": "1.2.0",
            "_view_name": "LayoutView",
            "align_content": null,
            "align_items": null,
            "align_self": null,
            "border": null,
            "bottom": null,
            "display": null,
            "flex": null,
            "flex_flow": null,
            "grid_area": null,
            "grid_auto_columns": null,
            "grid_auto_flow": null,
            "grid_auto_rows": null,
            "grid_column": null,
            "grid_gap": null,
            "grid_row": null,
            "grid_template_areas": null,
            "grid_template_columns": null,
            "grid_template_rows": null,
            "height": null,
            "justify_content": null,
            "justify_items": null,
            "left": null,
            "margin": null,
            "max_height": null,
            "max_width": null,
            "min_height": null,
            "min_width": null,
            "object_fit": null,
            "object_position": null,
            "order": null,
            "overflow": null,
            "overflow_x": null,
            "overflow_y": null,
            "padding": null,
            "right": null,
            "top": null,
            "visibility": null,
            "width": null
          }
        },
        "d840558f99004431b65d6547ff755c88": {
          "model_module": "@jupyter-widgets/controls",
          "model_name": "DescriptionStyleModel",
          "model_module_version": "1.5.0",
          "state": {
            "_model_module": "@jupyter-widgets/controls",
            "_model_module_version": "1.5.0",
            "_model_name": "DescriptionStyleModel",
            "_view_count": null,
            "_view_module": "@jupyter-widgets/base",
            "_view_module_version": "1.2.0",
            "_view_name": "StyleView",
            "description_width": ""
          }
        }
      }
    }
  },
  "cells": [
    {
      "cell_type": "code",
      "execution_count": 1,
      "metadata": {
        "id": "iRMU58xVsnlN",
        "colab": {
          "base_uri": "https://localhost:8080/"
        },
        "outputId": "47dced4c-91e8-4b70-87b4-2754b7bf653a"
      },
      "outputs": [
        {
          "output_type": "stream",
          "name": "stdout",
          "text": [
            "Mounted at /content/gdrive/\n"
          ]
        }
      ],
      "source": [
        "#@title Mount your Google Drive\n",
        "%matplotlib inline\n",
        "%load_ext autoreload\n",
        "%autoreload 2\n",
        "\n",
        "from google.colab import drive\n",
        "drive.mount('/content/gdrive/')"
      ]
    },
    {
      "cell_type": "code",
      "source": [
        "#@markdown Enter the path to the assignment folder in your Google Drive\n",
        "import sys\n",
        "import os\n",
        "import shutil\n",
        "import warnings\n",
        "\n",
        "folder = \"/content/gdrive/MyDrive/ELE6310_project/\" #@param {type:\"string\"}\n",
        "\n",
        "!ln -Ts $folder /content/A1 2> /dev/null\n",
        "\n",
        "# Add the assignment folder to Python path\n",
        "if '/content/gdrive/MyDrive/ELE6310_project/' not in sys.path:\n",
        "    sys.path.insert(0, '/content/gdrive/MyDrive/ELE6310_project/')\n",
        "\n",
        "# Install requirements\n",
        "#!pip install -qr /content/A1/requirements.txt\n",
        "!pip install -qr   /content/gdrive/MyDrive/ELE6310_project/requirements.txt\n",
        "\n",
        "\n",
        "# Check if CUDA is available\n",
        "import torch\n",
        "if not torch.cuda.is_available():\n",
        "    warnings.warn('CUDA is not available.')\n",
        "else:\n",
        "  print(\"cuda is available\")"
      ],
      "metadata": {
        "id": "qkaEHuo1sxIx",
        "colab": {
          "base_uri": "https://localhost:8080/"
        },
        "outputId": "b59bb128-fb1e-4a58-ff9f-f39318429921"
      },
      "execution_count": 2,
      "outputs": [
        {
          "output_type": "stream",
          "name": "stdout",
          "text": [
            "\u001b[?25l     \u001b[90m━━━━━━━━━━━━━━━━━━━━━━━━━━━━━━━━━━━━━━━━\u001b[0m \u001b[32m0.0/357.3 KB\u001b[0m \u001b[31m?\u001b[0m eta \u001b[36m-:--:--\u001b[0m\r\u001b[2K     \u001b[91m━━━━━━━━━━━━━━━━━━━━━━━━━━━━━━━━━━━\u001b[0m\u001b[91m╸\u001b[0m\u001b[90m━━\u001b[0m \u001b[32m337.9/357.3 KB\u001b[0m \u001b[31m10.2 MB/s\u001b[0m eta \u001b[36m0:00:01\u001b[0m\r\u001b[2K     \u001b[90m━━━━━━━━━━━━━━━━━━━━━━━━━━━━━━━━━━━━━━━\u001b[0m \u001b[32m357.3/357.3 KB\u001b[0m \u001b[31m7.7 MB/s\u001b[0m eta \u001b[36m0:00:00\u001b[0m\n",
            "\u001b[?25hcuda is available\n"
          ]
        }
      ]
    },
    {
      "cell_type": "code",
      "source": [
        "import torch\n",
        "import numpy as np\n",
        "import random\n",
        "from matplotlib import pyplot as plt\n",
        "import os"
      ],
      "metadata": {
        "id": "n4z3bRcCs22n"
      },
      "execution_count": 3,
      "outputs": []
    },
    {
      "cell_type": "code",
      "source": [
        "from common.utils import load_CIFAR10_dataset, evaluate, fit, model_size\n",
        "from common import quant_resnet\n",
        "from common import train_eval"
      ],
      "metadata": {
        "id": "tC5jHZnXs3tq"
      },
      "execution_count": 4,
      "outputs": []
    },
    {
      "cell_type": "code",
      "source": [
        "Seed = 6310\n",
        "torch.manual_seed(Seed)\n",
        "np.random.seed(Seed)\n",
        "random.seed(Seed)\n",
        "if torch.cuda.is_available():\n",
        "    torch.cuda.manual_seed(Seed)\n",
        "    torch.cuda.manual_seed_all(Seed)"
      ],
      "metadata": {
        "id": "k8UVPyAAs_bc"
      },
      "execution_count": 5,
      "outputs": []
    },
    {
      "cell_type": "code",
      "source": [
        "model = quant_resnet.CifarResNet(block = quant_resnet.BasicBlock, layers= [3,3,3])\n",
        "device = torch.device('cuda:0')\n",
        "model.to(device)\n",
        "train_loader, test_loader, calibration_loader = load_CIFAR10_dataset(batch_size=256, calibration_batch_size=1024)"
      ],
      "metadata": {
        "id": "rQksyOwKtA0K",
        "colab": {
          "base_uri": "https://localhost:8080/",
          "height": 101,
          "referenced_widgets": [
            "a7ab69899cc34a55a69e089ae4ae7c4a",
            "02b28ff829cf478e966850d04ba0814b",
            "a4d8c6c14f724975a87cc4afecfc8169",
            "1688905284224b18b272a73b509b47c3",
            "7bb0f97ff5dc45539b0070553949aef8",
            "87171d286bab4935899c88b10753edbc",
            "1e4a91d9d43b40f38cf5f92d249fdd5f",
            "c7fbcc8fa06543b7a29c40f458351dd7",
            "5c0b5cc1ee49489b9394768e9e87e7a2",
            "5d5a9e7fb6524a9b9e2915b120656c17",
            "d840558f99004431b65d6547ff755c88"
          ]
        },
        "outputId": "b722a4e4-ea25-4380-d4de-0ef0f541084c"
      },
      "execution_count": 6,
      "outputs": [
        {
          "output_type": "stream",
          "name": "stdout",
          "text": [
            "Downloading https://www.cs.toronto.edu/~kriz/cifar-10-python.tar.gz to ./data/cifar-10-python.tar.gz\n"
          ]
        },
        {
          "output_type": "display_data",
          "data": {
            "text/plain": [
              "  0%|          | 0/170498071 [00:00<?, ?it/s]"
            ],
            "application/vnd.jupyter.widget-view+json": {
              "version_major": 2,
              "version_minor": 0,
              "model_id": "a7ab69899cc34a55a69e089ae4ae7c4a"
            }
          },
          "metadata": {}
        },
        {
          "output_type": "stream",
          "name": "stdout",
          "text": [
            "Extracting ./data/cifar-10-python.tar.gz to ./data\n",
            "Files already downloaded and verified\n"
          ]
        }
      ]
    },
    {
      "cell_type": "code",
      "source": [
        "criterion = torch.nn.CrossEntropyLoss()\n",
        "optimizer = torch.optim.SGD(model.parameters(), 1e-3, momentum=0.9, weight_decay=0.0005, nesterov=True)"
      ],
      "metadata": {
        "id": "IKuRwuigtHGd"
      },
      "execution_count": 7,
      "outputs": []
    },
    {
      "cell_type": "code",
      "source": [
        "for epoch in range(100):\n",
        "    train_acc, train_loss = train_eval.train(model, train_loader, optimizer, criterion, device)\n",
        "    test_acc, test_loss = train_eval.evaluate(model, test_loader, criterion, device)\n",
        "    print(f\"Epoch {epoch+1}: train_loss={train_loss:.4f}, train_acc={train_acc:.2f}%, test_loss={test_loss:.4f}, test_acc={test_acc:.2f}%\")"
      ],
      "metadata": {
        "id": "3sLonN_stI5U",
        "colab": {
          "base_uri": "https://localhost:8080/"
        },
        "outputId": "15bae780-ddff-4d5f-9ea3-6b59be652e74"
      },
      "execution_count": 8,
      "outputs": [
        {
          "output_type": "stream",
          "name": "stdout",
          "text": [
            "Epoch 1: train_loss=2.2370, train_acc=16.61%, test_loss=2.1130, test_acc=23.40%\n",
            "Epoch 2: train_loss=2.0179, train_acc=24.91%, test_loss=1.8937, test_acc=27.84%\n",
            "Epoch 3: train_loss=1.8585, train_acc=30.19%, test_loss=1.8029, test_acc=32.26%\n",
            "Epoch 4: train_loss=1.7795, train_acc=32.73%, test_loss=1.7379, test_acc=33.41%\n",
            "Epoch 5: train_loss=1.7256, train_acc=34.23%, test_loss=1.7353, test_acc=34.20%\n",
            "Epoch 6: train_loss=1.6747, train_acc=36.26%, test_loss=1.7239, test_acc=35.34%\n",
            "Epoch 7: train_loss=1.6387, train_acc=37.43%, test_loss=1.6195, test_acc=38.36%\n",
            "Epoch 8: train_loss=1.6072, train_acc=38.85%, test_loss=1.5561, test_acc=41.04%\n",
            "Epoch 9: train_loss=1.5785, train_acc=40.06%, test_loss=1.6335, test_acc=38.32%\n",
            "Epoch 10: train_loss=1.5511, train_acc=41.50%, test_loss=1.5647, test_acc=41.70%\n",
            "Epoch 11: train_loss=1.5293, train_acc=42.59%, test_loss=1.5053, test_acc=43.20%\n",
            "Epoch 12: train_loss=1.5031, train_acc=43.86%, test_loss=1.4634, test_acc=45.35%\n",
            "Epoch 13: train_loss=1.4850, train_acc=44.64%, test_loss=1.4735, test_acc=44.61%\n",
            "Epoch 14: train_loss=1.4596, train_acc=45.68%, test_loss=1.4109, test_acc=47.32%\n",
            "Epoch 15: train_loss=1.4375, train_acc=46.84%, test_loss=1.5351, test_acc=44.93%\n",
            "Epoch 16: train_loss=1.4186, train_acc=47.50%, test_loss=1.4788, test_acc=45.59%\n",
            "Epoch 17: train_loss=1.3971, train_acc=48.46%, test_loss=1.4095, test_acc=48.12%\n",
            "Epoch 18: train_loss=1.3797, train_acc=49.21%, test_loss=1.3809, test_acc=49.47%\n",
            "Epoch 19: train_loss=1.3654, train_acc=49.82%, test_loss=1.3501, test_acc=50.45%\n",
            "Epoch 20: train_loss=1.3440, train_acc=50.64%, test_loss=1.3259, test_acc=51.46%\n",
            "Epoch 21: train_loss=1.3241, train_acc=51.73%, test_loss=1.3154, test_acc=52.05%\n",
            "Epoch 22: train_loss=1.3063, train_acc=52.24%, test_loss=1.3424, test_acc=51.21%\n",
            "Epoch 23: train_loss=1.2916, train_acc=52.68%, test_loss=1.3181, test_acc=52.15%\n",
            "Epoch 24: train_loss=1.2779, train_acc=53.31%, test_loss=1.3802, test_acc=50.73%\n",
            "Epoch 25: train_loss=1.2582, train_acc=54.36%, test_loss=1.2508, test_acc=54.84%\n",
            "Epoch 26: train_loss=1.2444, train_acc=54.54%, test_loss=1.2407, test_acc=54.49%\n",
            "Epoch 27: train_loss=1.2276, train_acc=55.45%, test_loss=1.2686, test_acc=54.83%\n",
            "Epoch 28: train_loss=1.2110, train_acc=55.87%, test_loss=1.1965, test_acc=56.84%\n",
            "Epoch 29: train_loss=1.1989, train_acc=56.59%, test_loss=1.2289, test_acc=56.00%\n",
            "Epoch 30: train_loss=1.1821, train_acc=57.16%, test_loss=1.3415, test_acc=52.99%\n",
            "Epoch 31: train_loss=1.1677, train_acc=57.51%, test_loss=1.1784, test_acc=57.88%\n",
            "Epoch 32: train_loss=1.1521, train_acc=58.21%, test_loss=1.2014, test_acc=56.36%\n",
            "Epoch 33: train_loss=1.1389, train_acc=58.77%, test_loss=1.2238, test_acc=56.27%\n",
            "Epoch 34: train_loss=1.1226, train_acc=59.52%, test_loss=1.1082, test_acc=60.01%\n",
            "Epoch 35: train_loss=1.1114, train_acc=59.62%, test_loss=1.1979, test_acc=57.90%\n",
            "Epoch 36: train_loss=1.1057, train_acc=60.23%, test_loss=1.2253, test_acc=56.53%\n",
            "Epoch 37: train_loss=1.0906, train_acc=60.70%, test_loss=1.1175, test_acc=59.87%\n",
            "Epoch 38: train_loss=1.0770, train_acc=61.20%, test_loss=1.1219, test_acc=59.80%\n",
            "Epoch 39: train_loss=1.0726, train_acc=61.18%, test_loss=1.1356, test_acc=60.10%\n",
            "Epoch 40: train_loss=1.0564, train_acc=61.96%, test_loss=1.1557, test_acc=59.15%\n",
            "Epoch 41: train_loss=1.0439, train_acc=62.39%, test_loss=1.0739, test_acc=61.76%\n",
            "Epoch 42: train_loss=1.0355, train_acc=62.60%, test_loss=1.0980, test_acc=61.00%\n",
            "Epoch 43: train_loss=1.0239, train_acc=63.20%, test_loss=1.1232, test_acc=59.64%\n",
            "Epoch 44: train_loss=1.0164, train_acc=63.60%, test_loss=1.0916, test_acc=61.38%\n",
            "Epoch 45: train_loss=1.0056, train_acc=63.98%, test_loss=1.0662, test_acc=62.33%\n",
            "Epoch 46: train_loss=0.9965, train_acc=64.46%, test_loss=1.0283, test_acc=63.50%\n",
            "Epoch 47: train_loss=0.9891, train_acc=64.62%, test_loss=1.0679, test_acc=62.13%\n",
            "Epoch 48: train_loss=0.9804, train_acc=64.80%, test_loss=1.0336, test_acc=63.24%\n",
            "Epoch 49: train_loss=0.9751, train_acc=64.92%, test_loss=0.9934, test_acc=65.01%\n",
            "Epoch 50: train_loss=0.9656, train_acc=65.52%, test_loss=1.0186, test_acc=64.43%\n",
            "Epoch 51: train_loss=0.9598, train_acc=65.67%, test_loss=1.0359, test_acc=63.12%\n",
            "Epoch 52: train_loss=0.9470, train_acc=66.11%, test_loss=1.0247, test_acc=63.77%\n",
            "Epoch 53: train_loss=0.9373, train_acc=66.25%, test_loss=1.0181, test_acc=64.44%\n",
            "Epoch 54: train_loss=0.9300, train_acc=66.90%, test_loss=1.1504, test_acc=60.44%\n",
            "Epoch 55: train_loss=0.9222, train_acc=67.08%, test_loss=1.0562, test_acc=63.20%\n",
            "Epoch 56: train_loss=0.9136, train_acc=67.27%, test_loss=0.9730, test_acc=64.76%\n",
            "Epoch 57: train_loss=0.9028, train_acc=67.81%, test_loss=0.9613, test_acc=65.75%\n",
            "Epoch 58: train_loss=0.8956, train_acc=68.03%, test_loss=0.9395, test_acc=66.88%\n",
            "Epoch 59: train_loss=0.8886, train_acc=68.31%, test_loss=0.9945, test_acc=65.12%\n",
            "Epoch 60: train_loss=0.8819, train_acc=68.50%, test_loss=0.9820, test_acc=66.09%\n",
            "Epoch 61: train_loss=0.8760, train_acc=68.63%, test_loss=0.9310, test_acc=67.00%\n",
            "Epoch 62: train_loss=0.8733, train_acc=68.96%, test_loss=0.9509, test_acc=66.42%\n",
            "Epoch 63: train_loss=0.8663, train_acc=69.02%, test_loss=0.9825, test_acc=65.68%\n",
            "Epoch 64: train_loss=0.8551, train_acc=69.69%, test_loss=0.9636, test_acc=65.83%\n",
            "Epoch 65: train_loss=0.8502, train_acc=69.73%, test_loss=0.9588, test_acc=66.61%\n",
            "Epoch 66: train_loss=0.8499, train_acc=69.68%, test_loss=0.8786, test_acc=68.42%\n",
            "Epoch 67: train_loss=0.8453, train_acc=69.95%, test_loss=0.9359, test_acc=67.30%\n",
            "Epoch 68: train_loss=0.8343, train_acc=70.32%, test_loss=1.0410, test_acc=64.73%\n",
            "Epoch 69: train_loss=0.8283, train_acc=70.48%, test_loss=0.8816, test_acc=69.44%\n",
            "Epoch 70: train_loss=0.8223, train_acc=70.88%, test_loss=0.8748, test_acc=69.06%\n",
            "Epoch 71: train_loss=0.8149, train_acc=71.09%, test_loss=0.9437, test_acc=67.64%\n",
            "Epoch 72: train_loss=0.8113, train_acc=71.39%, test_loss=0.8705, test_acc=69.72%\n",
            "Epoch 73: train_loss=0.8021, train_acc=71.51%, test_loss=0.8426, test_acc=70.36%\n",
            "Epoch 74: train_loss=0.7952, train_acc=71.79%, test_loss=0.8843, test_acc=69.14%\n",
            "Epoch 75: train_loss=0.7927, train_acc=71.77%, test_loss=0.9368, test_acc=67.31%\n",
            "Epoch 76: train_loss=0.7876, train_acc=72.12%, test_loss=0.8941, test_acc=68.50%\n",
            "Epoch 77: train_loss=0.7820, train_acc=72.17%, test_loss=0.8494, test_acc=70.18%\n",
            "Epoch 78: train_loss=0.7754, train_acc=72.42%, test_loss=0.9191, test_acc=67.70%\n",
            "Epoch 79: train_loss=0.7723, train_acc=72.65%, test_loss=0.8284, test_acc=70.97%\n",
            "Epoch 80: train_loss=0.7696, train_acc=72.68%, test_loss=0.8665, test_acc=70.16%\n",
            "Epoch 81: train_loss=0.7598, train_acc=73.12%, test_loss=0.8531, test_acc=70.01%\n",
            "Epoch 82: train_loss=0.7521, train_acc=73.49%, test_loss=0.8029, test_acc=71.88%\n",
            "Epoch 83: train_loss=0.7510, train_acc=73.61%, test_loss=0.8487, test_acc=70.57%\n",
            "Epoch 84: train_loss=0.7420, train_acc=74.05%, test_loss=0.8165, test_acc=71.51%\n",
            "Epoch 85: train_loss=0.7406, train_acc=73.84%, test_loss=0.8041, test_acc=72.11%\n",
            "Epoch 86: train_loss=0.7319, train_acc=74.09%, test_loss=0.8641, test_acc=70.80%\n",
            "Epoch 87: train_loss=0.7230, train_acc=74.47%, test_loss=0.8255, test_acc=71.32%\n",
            "Epoch 88: train_loss=0.7265, train_acc=74.47%, test_loss=0.8098, test_acc=72.21%\n",
            "Epoch 89: train_loss=0.7211, train_acc=74.57%, test_loss=0.8236, test_acc=71.66%\n",
            "Epoch 90: train_loss=0.7143, train_acc=74.80%, test_loss=0.7638, test_acc=73.45%\n",
            "Epoch 91: train_loss=0.7074, train_acc=75.16%, test_loss=0.8258, test_acc=71.60%\n",
            "Epoch 92: train_loss=0.6968, train_acc=75.43%, test_loss=0.7667, test_acc=73.17%\n",
            "Epoch 93: train_loss=0.6987, train_acc=75.44%, test_loss=0.7469, test_acc=73.90%\n",
            "Epoch 94: train_loss=0.6920, train_acc=75.70%, test_loss=0.8808, test_acc=69.89%\n",
            "Epoch 95: train_loss=0.6932, train_acc=75.71%, test_loss=0.7884, test_acc=73.18%\n",
            "Epoch 96: train_loss=0.6862, train_acc=75.99%, test_loss=0.7939, test_acc=72.90%\n",
            "Epoch 97: train_loss=0.6788, train_acc=76.24%, test_loss=0.7191, test_acc=74.79%\n",
            "Epoch 98: train_loss=0.6692, train_acc=76.54%, test_loss=0.7413, test_acc=74.17%\n",
            "Epoch 99: train_loss=0.6725, train_acc=76.48%, test_loss=0.8606, test_acc=70.70%\n",
            "Epoch 100: train_loss=0.6650, train_acc=76.65%, test_loss=0.7808, test_acc=72.58%\n"
          ]
        }
      ]
    },
    {
      "cell_type": "code",
      "source": [
        "torch.save(model.state_dict(), 'Quant_model_W3A8_3.pt')"
      ],
      "metadata": {
        "id": "YkSTTsevIxDZ"
      },
      "execution_count": 9,
      "outputs": []
    }
  ]
}